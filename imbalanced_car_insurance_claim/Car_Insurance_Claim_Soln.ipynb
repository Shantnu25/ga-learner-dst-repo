{
  "nbformat": 4,
  "nbformat_minor": 0,
  "metadata": {
    "kernelspec": {
      "display_name": "Python 3",
      "language": "python",
      "name": "python3"
    },
    "language_info": {
      "codemirror_mode": {
        "name": "ipython",
        "version": 3
      },
      "file_extension": ".py",
      "mimetype": "text/x-python",
      "name": "python",
      "nbconvert_exporter": "python",
      "pygments_lexer": "ipython3",
      "version": "3.7.6"
    },
    "colab": {
      "name": "Car_Insurance_Claim_Soln.ipynb",
      "provenance": []
    }
  },
  "cells": [
    {
      "cell_type": "code",
      "metadata": {
        "colab": {
          "base_uri": "https://localhost:8080/"
        },
        "id": "HeG0DdZhs7Cw",
        "outputId": "81ea93ae-519b-43b2-ef89-cd7cf189c407"
      },
      "source": [
        "#Using Goole Colab : Mounting google drive\n",
        "from google.colab import drive\n",
        "drive.mount('/content/drive')"
      ],
      "execution_count": 39,
      "outputs": [
        {
          "output_type": "stream",
          "text": [
            "Drive already mounted at /content/drive; to attempt to forcibly remount, call drive.mount(\"/content/drive\", force_remount=True).\n"
          ],
          "name": "stdout"
        }
      ]
    },
    {
      "cell_type": "code",
      "metadata": {
        "id": "Jpcd3WkrqSbX"
      },
      "source": [
        "# import the modules\n",
        "import warnings\n",
        "warnings.filterwarnings('ignore')\n",
        "\n",
        "import numpy as np\n",
        "import pandas as pd\n",
        "import seaborn as sns\n",
        "import matplotlib.pyplot as plt\n",
        "from sklearn.model_selection import train_test_split\n",
        "from sklearn.preprocessing import LabelEncoder\n",
        "from sklearn.metrics import precision_score, recall_score , f1_score\n",
        "from sklearn.metrics import accuracy_score, confusion_matrix\n",
        "from sklearn.linear_model import LogisticRegression\n",
        "from sklearn.preprocessing import StandardScaler\n",
        "from imblearn.over_sampling import SMOTE"
      ],
      "execution_count": 40,
      "outputs": []
    },
    {
      "cell_type": "markdown",
      "metadata": {
        "id": "j94kI8s8qSbh"
      },
      "source": [
        "### Load the dataset\n"
      ]
    },
    {
      "cell_type": "code",
      "metadata": {
        "colab": {
          "base_uri": "https://localhost:8080/"
        },
        "id": "wxEl339PqSbj",
        "outputId": "969b2d8a-b4dc-4056-d267-104a0ccb0841"
      },
      "source": [
        "# Code starts here\n",
        "train = pd.read_csv(\"/content/drive/MyDrive/Car insurance claim/train.csv\")\n",
        "\n",
        "#Dropping df_train Id column : train_id\n",
        "train_id = train['Unnamed: 0']\n",
        "train.drop(['Unnamed: 0'], axis=1, inplace=True)\n",
        "\n",
        "# drop serial number\n",
        "train.drop(columns=['ID'],inplace=True)\n",
        "print(train.head())\n"
      ],
      "execution_count": 41,
      "outputs": [
        {
          "output_type": "stream",
          "text": [
            "   KIDSDRIV   AGE  HOMEKIDS   YOJ  ... MVR_PTS CLM_AMT CAR_AGE CLAIM_FLAG\n",
            "0         1  42.0         3   9.0  ...       4      $0     9.0          1\n",
            "1         0  50.0         0   7.0  ...       3      $0    18.0          0\n",
            "2         0  40.0         2  17.0  ...       1    $629     9.0          1\n",
            "3         2  38.0         2  13.0  ...       5      $0     2.0          0\n",
            "4         0  38.0         0   NaN  ...       3  $2,156     2.0          1\n",
            "\n",
            "[5 rows x 24 columns]\n"
          ],
          "name": "stdout"
        }
      ]
    },
    {
      "cell_type": "markdown",
      "metadata": {
        "id": "b8wbm2dkqSbt"
      },
      "source": [
        "### Clean and visualize the data\n"
      ]
    },
    {
      "cell_type": "code",
      "metadata": {
        "colab": {
          "base_uri": "https://localhost:8080/",
          "height": 751
        },
        "id": "i_GA3xYEqSbv",
        "outputId": "b24f8051-2240-4e29-9295-f82e8c5d774d"
      },
      "source": [
        "# Check the distribution of the target variable\n",
        "\n",
        "#Storing value counts of target variable in 'claim_flag'\n",
        "claim_flag = train['CLAIM_FLAG'].value_counts()\n",
        "print(claim_flag)\n",
        "\n",
        "#Plotting bar plot\n",
        "plt.bar(claim_flag.index, claim_flag)\n",
        "plt.show()\n",
        "\n",
        "# replace the '$' and ',' symbol\n",
        "columns = ['INCOME','HOME_VAL','BLUEBOOK','OLDCLAIM','CLM_AMT']\n",
        "\n",
        "for col in columns:\n",
        "    train[col].replace({'\\$': '', ',': ''}, regex=True,inplace=True)\n",
        "    \n",
        "# Convert object type to float on train\n",
        "train[['INCOME','HOME_VAL','BLUEBOOK','OLDCLAIM','CLM_AMT']]=train[['INCOME','HOME_VAL','BLUEBOOK','OLDCLAIM','CLM_AMT']].astype(float)\n",
        "\n",
        "# check missing values in train\n",
        "print(pd.DataFrame({'total_missing': train.isnull().sum(), 'perc_missing': (train.isnull().sum()/7211)*100}))\n"
      ],
      "execution_count": 42,
      "outputs": [
        {
          "output_type": "stream",
          "text": [
            "0    5414\n",
            "1    2827\n",
            "Name: CLAIM_FLAG, dtype: int64\n"
          ],
          "name": "stdout"
        },
        {
          "output_type": "display_data",
          "data": {
            "image/png": "[encoded data removed]",
            "text/plain": [
              "<Figure size 432x288 with 1 Axes>"
            ]
          },
          "metadata": {
            "tags": [],
            "needs_background": "light"
          }
        },
        {
          "output_type": "stream",
          "text": [
            "            total_missing  perc_missing\n",
            "KIDSDRIV                0      0.000000\n",
            "AGE                     6      0.083206\n",
            "HOMEKIDS                0      0.000000\n",
            "YOJ                   442      6.129524\n",
            "INCOME                462      6.406878\n",
            "PARENT1                 0      0.000000\n",
            "HOME_VAL              458      6.351408\n",
            "MSTATUS                 0      0.000000\n",
            "GENDER                  0      0.000000\n",
            "EDUCATION               0      0.000000\n",
            "OCCUPATION            530      7.349882\n",
            "TRAVTIME                0      0.000000\n",
            "CAR_USE                 0      0.000000\n",
            "BLUEBOOK                0      0.000000\n",
            "TIF                     0      0.000000\n",
            "CAR_TYPE                0      0.000000\n",
            "RED_CAR                 0      0.000000\n",
            "OLDCLAIM                0      0.000000\n",
            "CLM_FREQ                0      0.000000\n",
            "REVOKED                 0      0.000000\n",
            "MVR_PTS                 0      0.000000\n",
            "CLM_AMT                 0      0.000000\n",
            "CAR_AGE               515      7.141867\n",
            "CLAIM_FLAG              0      0.000000\n"
          ],
          "name": "stdout"
        }
      ]
    },
    {
      "cell_type": "code",
      "metadata": {
        "colab": {
          "base_uri": "https://localhost:8080/"
        },
        "id": "PY79IMoJqSb0",
        "outputId": "503df121-db1a-403e-869c-04e18f1fe62f"
      },
      "source": [
        "# drop missing values\n",
        "train.dropna(subset=['YOJ','OCCUPATION'],inplace=True)\n",
        "\n",
        "# Split the data into train and test\n",
        "X = train.drop(columns = ['CLAIM_FLAG'])\n",
        "y = train[['CLAIM_FLAG']]\n",
        "\n",
        "X_train, X_test, y_train, y_test = train_test_split(X, y, test_size=0.3, random_state=6)\n",
        "print(y_train['CLAIM_FLAG'].value_counts())\n",
        "print(y_test['CLAIM_FLAG'].value_counts())\n",
        "X_train_copy = X_train.copy()\n",
        "\n",
        "#y_train=y_train[X_train.index]\n",
        "#y_test=y_test[X_test.index]\n",
        "\n",
        "# fill missing values with mean\n",
        "X_train['AGE'].fillna((X_train['AGE'].mean()), inplace=True)\n",
        "X_train['CAR_AGE'].fillna((X_train['CAR_AGE'].mean()), inplace=True)\n",
        "X_train['INCOME'].fillna((X_train['INCOME'].mean()), inplace=True)\n",
        "X_train['HOME_VAL'].fillna((X_train['HOME_VAL'].mean()), inplace=True)\n",
        "\n",
        "X_test['AGE'].fillna((X_train['AGE'].mean()), inplace=True)\n",
        "X_test['CAR_AGE'].fillna((X_train['CAR_AGE'].mean()), inplace=True)\n",
        "X_test['INCOME'].fillna((X_train['INCOME'].mean()), inplace=True)\n",
        "X_test['HOME_VAL'].fillna((X_train['HOME_VAL'].mean()), inplace=True)\n",
        "\n",
        "# print(train.isnull().sum())\n",
        "\n"
      ],
      "execution_count": 43,
      "outputs": [
        {
          "output_type": "stream",
          "text": [
            "0    3339\n",
            "1    1766\n",
            "Name: CLAIM_FLAG, dtype: int64\n",
            "0    1444\n",
            "1     744\n",
            "Name: CLAIM_FLAG, dtype: int64\n"
          ],
          "name": "stdout"
        }
      ]
    },
    {
      "cell_type": "markdown",
      "metadata": {
        "id": "X77Sn6FbqSb2"
      },
      "source": [
        "### Model building"
      ]
    },
    {
      "cell_type": "code",
      "metadata": {
        "colab": {
          "base_uri": "https://localhost:8080/"
        },
        "id": "gokcwgLCqSb3",
        "outputId": "1fcf000e-4bab-4290-9fe5-c8ae4f5614ed"
      },
      "source": [
        "\n",
        "# Convert the categorical values to numeric value\n",
        "columns = [\"PARENT1\",\"MSTATUS\",\"GENDER\",\"EDUCATION\",\"OCCUPATION\",\"CAR_USE\",\"CAR_TYPE\",\"RED_CAR\",\"REVOKED\"]\n",
        "\n",
        "for col in columns:\n",
        "    # Instantiate label encoder\n",
        "    le = LabelEncoder()\n",
        "    # fit and transform label encoder on train\n",
        "    X_train[col]=le.fit_transform(X_train[col].astype(str))\n",
        "    # transform label encoder on X_test\n",
        "    X_test[col]=le.transform(X_test[col].astype(str))\n",
        "\n",
        "\n",
        "\n",
        "# X_train.drop(columns = ['CLM_FREQ'], inplace = True)\n",
        "# X_test.drop(columns = ['CLM_FREQ'], inplace = True)\n",
        "\n",
        "print(X_train.corr())\n",
        "    \n",
        " # Instantiate logistic regression\n",
        "model = LogisticRegression(random_state = 6)\n",
        "\n",
        "# fit the model\n",
        "model.fit(X_train,y_train)\n",
        "\n",
        "# predict the result\n",
        "y_pred =model.predict(X_test)\n",
        "\n",
        "# calculate the f1 score\n",
        "score = accuracy_score(y_test, y_pred)\n",
        "\n",
        "print(confusion_matrix(y_test, y_pred))\n",
        "print(recall_score(y_test, y_pred))\n",
        "print(precision_score(y_test, y_pred))\n",
        "print(f1_score(y_test, y_pred))\n",
        "\n"
      ],
      "execution_count": 44,
      "outputs": [
        {
          "output_type": "stream",
          "text": [
            "            KIDSDRIV       AGE  HOMEKIDS  ...   MVR_PTS   CLM_AMT   CAR_AGE\n",
            "KIDSDRIV    1.000000 -0.080150  0.480723  ...  0.056179  0.067480 -0.044222\n",
            "AGE        -0.080150  1.000000 -0.409191  ... -0.083649 -0.070204  0.162435\n",
            "HOMEKIDS    0.480723 -0.409191  1.000000  ...  0.075651  0.076259 -0.149092\n",
            "YOJ         0.043560  0.116404  0.090293  ... -0.043890 -0.023948  0.044306\n",
            "INCOME     -0.031361  0.158185 -0.144025  ... -0.079417 -0.070036  0.370826\n",
            "PARENT1     0.203328 -0.298218  0.440183  ...  0.068774  0.109227 -0.056576\n",
            "HOME_VAL   -0.015861  0.200231 -0.100430  ... -0.110279 -0.112735  0.211295\n",
            "MSTATUS    -0.044878 -0.097886 -0.051957  ...  0.043107  0.087419  0.031305\n",
            "GENDER      0.017650 -0.055434  0.095676  ...  0.011871 -0.003070  0.023951\n",
            "EDUCATION   0.014051  0.030672 -0.039424  ... -0.000639  0.024097 -0.054842\n",
            "OCCUPATION  0.016397 -0.009866  0.003526  ...  0.041849  0.067004 -0.059115\n",
            "TRAVTIME    0.006183  0.021620  0.002604  ...  0.012706  0.024132 -0.011784\n",
            "CAR_USE    -0.011589  0.051537 -0.009911  ... -0.069496 -0.116110  0.118194\n",
            "BLUEBOOK   -0.032188  0.149852 -0.105777  ... -0.059392 -0.009438  0.149416\n",
            "TIF        -0.011558 -0.003364  0.009917  ... -0.041818 -0.042157 -0.012481\n",
            "CAR_TYPE    0.009290 -0.028450  0.063398  ...  0.052035  0.046093 -0.038756\n",
            "RED_CAR    -0.020320  0.029786 -0.057869  ...  0.003585 -0.013993 -0.015415\n",
            "OLDCLAIM    0.031338 -0.031270  0.026271  ...  0.268431  0.067989 -0.020115\n",
            "CLM_FREQ    0.035307 -0.034946  0.044164  ...  0.392700  0.123399 -0.027979\n",
            "REVOKED     0.031330 -0.048189  0.034400  ...  0.045722  0.076073 -0.014839\n",
            "MVR_PTS     0.056179 -0.083649  0.075651  ...  1.000000  0.133337 -0.050107\n",
            "CLM_AMT     0.067480 -0.070204  0.076259  ...  0.133337  1.000000 -0.075689\n",
            "CAR_AGE    -0.044222  0.162435 -0.149092  ... -0.050107 -0.075689  1.000000\n",
            "\n",
            "[23 rows x 23 columns]\n",
            "[[1352   92]\n",
            " [ 375  369]]\n",
            "0.4959677419354839\n",
            "0.8004338394793926\n",
            "0.6124481327800829\n"
          ],
          "name": "stdout"
        }
      ]
    },
    {
      "cell_type": "code",
      "metadata": {
        "colab": {
          "base_uri": "https://localhost:8080/"
        },
        "id": "ZP70yMOFqSb7",
        "outputId": "2995b320-5de8-445f-c193-117e2c571422"
      },
      "source": [
        "# Deal with Imbalanced Data\n",
        "\n",
        "# Instantiate SMOTE \n",
        "smote = SMOTE(random_state=9)\n",
        "\n",
        "# fit smote on training set\n",
        "X_train, y_train = smote.fit_sample(X_train, y_train)\n",
        "\n",
        "#print(y_train['CLAIM_FLAG'].value_counts())\n",
        "#print(y_test['CLAIM_FLAG'].value_counts())\n",
        "\n",
        "# Instantiate a standardScaler\n",
        "scaler = StandardScaler()\n",
        "\n",
        "# Fit on training set only.\n",
        "X_train = scaler.fit_transform(X_train)\n",
        "\n",
        "# Apply transform to the test set.\n",
        "X_test = scaler.transform(X_test)\n",
        "\n",
        "\n",
        "# Instantiate logistic regression\n",
        "model = LogisticRegression()\n",
        "\n",
        "# fit the model\n",
        "model.fit(X_train,y_train)\n",
        "\n",
        "# predict the result\n",
        "y_pred =model.predict(X_test)\n",
        "\n",
        "# calculate the f1 score\n",
        "score = accuracy_score(y_test, y_pred)\n",
        "print(score)\n",
        "\n",
        "print(confusion_matrix(y_test, y_pred))\n",
        "print(recall_score(y_test, y_pred))\n",
        "print(precision_score(y_test, y_pred))\n",
        "print(f1_score(y_test, y_pred))"
      ],
      "execution_count": 45,
      "outputs": [
        {
          "output_type": "stream",
          "text": [
            "0.8153564899451554\n",
            "[[1331  113]\n",
            " [ 291  453]]\n",
            "0.6088709677419355\n",
            "0.8003533568904594\n",
            "0.6916030534351146\n"
          ],
          "name": "stdout"
        }
      ]
    },
    {
      "cell_type": "markdown",
      "metadata": {
        "id": "NE6jgVAVqSb_"
      },
      "source": [
        "### Prediction on the test data and creating the submission file."
      ]
    },
    {
      "cell_type": "code",
      "metadata": {
        "colab": {
          "base_uri": "https://localhost:8080/"
        },
        "id": "n0AMpw9tqScB",
        "outputId": "6604d97e-0308-40d2-c9c8-0ee206e799c9"
      },
      "source": [
        "# Prediction on test data\n",
        "\n",
        "# Read the test data\n",
        "test = pd.read_csv('/content/drive/MyDrive/Car insurance claim/test.csv')\n",
        "print(test.shape)\n",
        "\n",
        "\n",
        "# replace the '$' and ',' symbol\n",
        "columns = ['INCOME','HOME_VAL','BLUEBOOK','OLDCLAIM','CLM_AMT']\n",
        "\n",
        "for col in columns:\n",
        "    test[col].replace({'\\$': '', ',': ''}, regex=True,inplace=True)\n",
        "\n",
        "test[['INCOME','HOME_VAL','BLUEBOOK','OLDCLAIM','CLM_AMT']]=test[['INCOME','HOME_VAL','BLUEBOOK','OLDCLAIM','CLM_AMT']].astype(float)\n",
        "\n",
        "\n",
        "test.dropna(subset=['YOJ','OCCUPATION'],inplace=True)\n",
        "test['AGE'].fillna((X_train_copy['AGE'].mean()), inplace=True)\n",
        "test['CAR_AGE'].fillna((X_train_copy['CAR_AGE'].mean()), inplace=True)\n",
        "test['INCOME'].fillna((X_train_copy['INCOME'].mean()), inplace=True)\n",
        "test['HOME_VAL'].fillna((X_train_copy['HOME_VAL'].mean()), inplace=True)\n",
        "\n",
        "# Storing the id from the test file\n",
        "id_ = test['Unnamed: 0']\n",
        "test.drop(['Unnamed: 0'], axis=1, inplace=True) \n",
        "\n",
        "test.drop(['ID'], axis=1, inplace=True) \n",
        "\n",
        "# Apply the transformations on test\n",
        "columns = [\"PARENT1\",\"MSTATUS\",\"GENDER\",\"EDUCATION\",\"OCCUPATION\",\"CAR_USE\",\"CAR_TYPE\",\"RED_CAR\",\"REVOKED\"]\n",
        "\n",
        "for col in columns:\n",
        "    # Instantiate label encoder\n",
        "    le = LabelEncoder()\n",
        "    # fit and transform label encoder on X_train\n",
        "    le.fit(X_train_copy[col].astype(str))\n",
        "    # transform label encoder on X_test\n",
        "    test[col]=le.transform(test[col].astype(str))\n",
        "\n",
        "    \n",
        "print(test.columns)\n",
        "\n",
        "# Predict on the test data\n",
        "y_pred_test = model.predict(test)\n",
        "y_pred_test = y_pred_test.flatten()\n",
        "\n"
      ],
      "execution_count": 46,
      "outputs": [
        {
          "output_type": "stream",
          "text": [
            "(2061, 25)\n",
            "Index(['KIDSDRIV', 'AGE', 'HOMEKIDS', 'YOJ', 'INCOME', 'PARENT1', 'HOME_VAL',\n",
            "       'MSTATUS', 'GENDER', 'EDUCATION', 'OCCUPATION', 'TRAVTIME', 'CAR_USE',\n",
            "       'BLUEBOOK', 'TIF', 'CAR_TYPE', 'RED_CAR', 'OLDCLAIM', 'CLM_FREQ',\n",
            "       'REVOKED', 'MVR_PTS', 'CLM_AMT', 'CAR_AGE'],\n",
            "      dtype='object')\n"
          ],
          "name": "stdout"
        }
      ]
    },
    {
      "cell_type": "code",
      "metadata": {
        "colab": {
          "base_uri": "https://localhost:8080/"
        },
        "id": "M0pft9wn96qH",
        "outputId": "25ba1f9b-1da8-46dd-dd77-0835c0921cca"
      },
      "source": [
        "# Create a  submission file\n",
        "submission = pd.DataFrame({'Unnamed: 0':id_,'CLAIM_FLAG':y_pred_test})\n",
        "print(submission.head())\n",
        "\n",
        "# Convert the sample submission file into a csv file\n",
        "submission.to_csv('submission_test.csv',index=False)"
      ],
      "execution_count": 47,
      "outputs": [
        {
          "output_type": "stream",
          "text": [
            "   Unnamed: 0  CLAIM_FLAG\n",
            "0         635           1\n",
            "3        8325           1\n",
            "4        9281           1\n",
            "6        3857           1\n",
            "7        9258           1\n"
          ],
          "name": "stdout"
        }
      ]
    },
    {
      "cell_type": "code",
      "metadata": {
        "colab": {
          "base_uri": "https://localhost:8080/",
          "height": 17
        },
        "id": "PE80HItLs2fE",
        "outputId": "c9343325-c83f-44f4-dd0c-c0bdb04c1eb1"
      },
      "source": [
        "from google.colab import files\n",
        "files.download('submission_test.csv')"
      ],
      "execution_count": 48,
      "outputs": [
        {
          "output_type": "display_data",
          "data": {
            "application/javascript": [
              "\n",
              "    async function download(id, filename, size) {\n",
              "      if (!google.colab.kernel.accessAllowed) {\n",
              "        return;\n",
              "      }\n",
              "      const div = document.createElement('div');\n",
              "      const label = document.createElement('label');\n",
              "      label.textContent = `Downloading \"${filename}\": `;\n",
              "      div.appendChild(label);\n",
              "      const progress = document.createElement('progress');\n",
              "      progress.max = size;\n",
              "      div.appendChild(progress);\n",
              "      document.body.appendChild(div);\n",
              "\n",
              "      const buffers = [];\n",
              "      let downloaded = 0;\n",
              "\n",
              "      const channel = await google.colab.kernel.comms.open(id);\n",
              "      // Send a message to notify the kernel that we're ready.\n",
              "      channel.send({})\n",
              "\n",
              "      for await (const message of channel.messages) {\n",
              "        // Send a message to notify the kernel that we're ready.\n",
              "        channel.send({})\n",
              "        if (message.buffers) {\n",
              "          for (const buffer of message.buffers) {\n",
              "            buffers.push(buffer);\n",
              "            downloaded += buffer.byteLength;\n",
              "            progress.value = downloaded;\n",
              "          }\n",
              "        }\n",
              "      }\n",
              "      const blob = new Blob(buffers, {type: 'application/binary'});\n",
              "      const a = document.createElement('a');\n",
              "      a.href = window.URL.createObjectURL(blob);\n",
              "      a.download = filename;\n",
              "      div.appendChild(a);\n",
              "      a.click();\n",
              "      div.remove();\n",
              "    }\n",
              "  "
            ],
            "text/plain": [
              "<IPython.core.display.Javascript object>"
            ]
          },
          "metadata": {
            "tags": []
          }
        },
        {
          "output_type": "display_data",
          "data": {
            "application/javascript": [
              "download(\"download_89fa2b46-4e0f-4d82-a20e-38cb29ddefb4\", \"submission_test.csv\", 12701)"
            ],
            "text/plain": [
              "<IPython.core.display.Javascript object>"
            ]
          },
          "metadata": {
            "tags": []
          }
        }
      ]
    }
  ]
}
{
  "nbformat": 4,
  "nbformat_minor": 0,
  "metadata": {
    "colab": {
      "name": "logistic_regression_InsuranceClaim.ipynb",
      "provenance": []
    },
    "kernelspec": {
      "display_name": "Python 3",
      "language": "python",
      "name": "python3"
    },
    "language_info": {
      "codemirror_mode": {
        "name": "ipython",
        "version": 3
      },
      "file_extension": ".py",
      "mimetype": "text/x-python",
      "name": "python",
      "nbconvert_exporter": "python",
      "pygments_lexer": "ipython3",
      "version": "3.7.3"
    }
  },
  "cells": [
    {
      "cell_type": "code",
      "metadata": {
        "id": "6M-wD3VBHA-K"
      },
      "source": [
        "import numpy as np\n",
        "import pandas as pd\n",
        "import seaborn as sns\n",
        "import matplotlib.pyplot as plt\n",
        "from sklearn.model_selection import train_test_split\n",
        "from sklearn.model_selection import GridSearchCV, RandomizedSearchCV\n",
        "from sklearn.linear_model import LogisticRegression\n",
        "from sklearn.metrics import accuracy_score\n",
        "from sklearn.metrics import roc_auc_score\n",
        "from sklearn import metrics\n",
        "\n",
        "import warnings\n",
        "warnings.filterwarnings('ignore')"
      ],
      "execution_count": 114,
      "outputs": []
    },
    {
      "cell_type": "markdown",
      "metadata": {
        "id": "j3xwW5oOvHOt"
      },
      "source": [
        "## Problem\n",
        "\n",
        "To predict the Insurance claim using logistic regression. \n",
        "```\n",
        "\n",
        "This dataset contains information on the insurance claim.\n",
        "Each observation is different policyholders with various features like the age of the person, the gender of the policyholder, body mass index, providing an understanding of the body, number of children of the policyholder, smoking state of the policyholder and individual medical costs billed by health insurance.\n",
        "\n",
        "```"
      ]
    },
    {
      "cell_type": "markdown",
      "metadata": {
        "id": "h6x6WpI0tGnm"
      },
      "source": [
        "##Features Info\n",
        "```\n",
        "age - age of policyholder \n",
        "\n",
        "sex - male(1)/female(0)\n",
        "\n",
        "bmi - body mass index\n",
        "\n",
        "children - number of children/dependents of policyholder\n",
        "\n",
        "smoker - smoking state - nonsmoker(0)/smoker(1)\n",
        "\n",
        "region - residential area - northeast(0)/northwest(1)/southeast(2)/southwest(3)\n",
        "\n",
        "charges - medical cost\n",
        "\n",
        "insuranceclaim - Target - yes(1)/no(0)\n",
        "```"
      ]
    },
    {
      "cell_type": "markdown",
      "metadata": {
        "id": "6nwQT_pQHA-a"
      },
      "source": [
        "### Load the dataset\n"
      ]
    },
    {
      "cell_type": "code",
      "metadata": {
        "colab": {
          "base_uri": "https://localhost:8080/"
        },
        "id": "fyHUI4ITHA-c",
        "outputId": "896d7970-8854-4d5b-abb0-3f0f73e759a8"
      },
      "source": [
        "\n",
        "#Using Goole Colab : Mounting google drive\n",
        "from google.colab import drive\n",
        "drive.mount('/content/drive')\n"
      ],
      "execution_count": 115,
      "outputs": [
        {
          "output_type": "stream",
          "text": [
            "Drive already mounted at /content/drive; to attempt to forcibly remount, call drive.mount(\"/content/drive\", force_remount=True).\n"
          ],
          "name": "stdout"
        }
      ]
    },
    {
      "cell_type": "code",
      "metadata": {
        "id": "_uCm7XtTJfNz"
      },
      "source": [
        "# read the dataset and extract the test  and train data separately\n",
        "df_train=pd.read_csv('/content/drive/MyDrive/Log_Reg/train.csv')\n",
        "df_test=pd.read_csv('/content/drive/MyDrive/Log_Reg/test.csv')\n",
        "\n",
        "#Dropping df_train Id column : train_id\n",
        "train_id = df_train['Id']\n",
        "df_train.drop(['Id'], axis=1, inplace=True)"
      ],
      "execution_count": 116,
      "outputs": []
    },
    {
      "cell_type": "markdown",
      "metadata": {
        "id": "WjZjRFpEq_ct"
      },
      "source": [
        "##Exporing the data"
      ]
    },
    {
      "cell_type": "code",
      "metadata": {
        "colab": {
          "base_uri": "https://localhost:8080/",
          "height": 363
        },
        "id": "fNV4k-d8HA-f",
        "outputId": "a01659b9-c66a-4cdb-a78d-f198b8e37363"
      },
      "source": [
        "#First look at data\n",
        "df_train.head(10)\n"
      ],
      "execution_count": 117,
      "outputs": [
        {
          "output_type": "execute_result",
          "data": {
            "text/html": [
              "<div>\n",
              "<style scoped>\n",
              "    .dataframe tbody tr th:only-of-type {\n",
              "        vertical-align: middle;\n",
              "    }\n",
              "\n",
              "    .dataframe tbody tr th {\n",
              "        vertical-align: top;\n",
              "    }\n",
              "\n",
              "    .dataframe thead th {\n",
              "        text-align: right;\n",
              "    }\n",
              "</style>\n",
              "<table border=\"1\" class=\"dataframe\">\n",
              "  <thead>\n",
              "    <tr style=\"text-align: right;\">\n",
              "      <th></th>\n",
              "      <th>age</th>\n",
              "      <th>sex</th>\n",
              "      <th>bmi</th>\n",
              "      <th>children</th>\n",
              "      <th>smoker</th>\n",
              "      <th>region</th>\n",
              "      <th>charges</th>\n",
              "      <th>insuranceclaim</th>\n",
              "    </tr>\n",
              "  </thead>\n",
              "  <tbody>\n",
              "    <tr>\n",
              "      <th>0</th>\n",
              "      <td>25</td>\n",
              "      <td>0</td>\n",
              "      <td>30.300</td>\n",
              "      <td>0</td>\n",
              "      <td>0</td>\n",
              "      <td>3</td>\n",
              "      <td>2632.99200</td>\n",
              "      <td>1</td>\n",
              "    </tr>\n",
              "    <tr>\n",
              "      <th>1</th>\n",
              "      <td>26</td>\n",
              "      <td>0</td>\n",
              "      <td>19.800</td>\n",
              "      <td>1</td>\n",
              "      <td>0</td>\n",
              "      <td>3</td>\n",
              "      <td>3378.91000</td>\n",
              "      <td>0</td>\n",
              "    </tr>\n",
              "    <tr>\n",
              "      <th>2</th>\n",
              "      <td>44</td>\n",
              "      <td>1</td>\n",
              "      <td>31.350</td>\n",
              "      <td>1</td>\n",
              "      <td>1</td>\n",
              "      <td>0</td>\n",
              "      <td>39556.49450</td>\n",
              "      <td>1</td>\n",
              "    </tr>\n",
              "    <tr>\n",
              "      <th>3</th>\n",
              "      <td>44</td>\n",
              "      <td>1</td>\n",
              "      <td>30.690</td>\n",
              "      <td>2</td>\n",
              "      <td>0</td>\n",
              "      <td>2</td>\n",
              "      <td>7731.42710</td>\n",
              "      <td>0</td>\n",
              "    </tr>\n",
              "    <tr>\n",
              "      <th>4</th>\n",
              "      <td>29</td>\n",
              "      <td>0</td>\n",
              "      <td>24.600</td>\n",
              "      <td>2</td>\n",
              "      <td>0</td>\n",
              "      <td>3</td>\n",
              "      <td>4529.47700</td>\n",
              "      <td>0</td>\n",
              "    </tr>\n",
              "    <tr>\n",
              "      <th>5</th>\n",
              "      <td>47</td>\n",
              "      <td>0</td>\n",
              "      <td>29.370</td>\n",
              "      <td>1</td>\n",
              "      <td>0</td>\n",
              "      <td>2</td>\n",
              "      <td>8547.69130</td>\n",
              "      <td>0</td>\n",
              "    </tr>\n",
              "    <tr>\n",
              "      <th>6</th>\n",
              "      <td>24</td>\n",
              "      <td>0</td>\n",
              "      <td>33.990</td>\n",
              "      <td>0</td>\n",
              "      <td>0</td>\n",
              "      <td>2</td>\n",
              "      <td>2473.33410</td>\n",
              "      <td>1</td>\n",
              "    </tr>\n",
              "    <tr>\n",
              "      <th>7</th>\n",
              "      <td>26</td>\n",
              "      <td>0</td>\n",
              "      <td>22.230</td>\n",
              "      <td>0</td>\n",
              "      <td>0</td>\n",
              "      <td>1</td>\n",
              "      <td>3176.28770</td>\n",
              "      <td>0</td>\n",
              "    </tr>\n",
              "    <tr>\n",
              "      <th>8</th>\n",
              "      <td>18</td>\n",
              "      <td>0</td>\n",
              "      <td>28.215</td>\n",
              "      <td>0</td>\n",
              "      <td>0</td>\n",
              "      <td>0</td>\n",
              "      <td>2200.83085</td>\n",
              "      <td>1</td>\n",
              "    </tr>\n",
              "    <tr>\n",
              "      <th>9</th>\n",
              "      <td>58</td>\n",
              "      <td>0</td>\n",
              "      <td>33.100</td>\n",
              "      <td>0</td>\n",
              "      <td>0</td>\n",
              "      <td>3</td>\n",
              "      <td>11848.14100</td>\n",
              "      <td>1</td>\n",
              "    </tr>\n",
              "  </tbody>\n",
              "</table>\n",
              "</div>"
            ],
            "text/plain": [
              "   age  sex     bmi  children  smoker  region      charges  insuranceclaim\n",
              "0   25    0  30.300         0       0       3   2632.99200               1\n",
              "1   26    0  19.800         1       0       3   3378.91000               0\n",
              "2   44    1  31.350         1       1       0  39556.49450               1\n",
              "3   44    1  30.690         2       0       2   7731.42710               0\n",
              "4   29    0  24.600         2       0       3   4529.47700               0\n",
              "5   47    0  29.370         1       0       2   8547.69130               0\n",
              "6   24    0  33.990         0       0       2   2473.33410               1\n",
              "7   26    0  22.230         0       0       1   3176.28770               0\n",
              "8   18    0  28.215         0       0       0   2200.83085               1\n",
              "9   58    0  33.100         0       0       3  11848.14100               1"
            ]
          },
          "metadata": {
            "tags": []
          },
          "execution_count": 117
        }
      ]
    },
    {
      "cell_type": "code",
      "metadata": {
        "colab": {
          "base_uri": "https://localhost:8080/"
        },
        "id": "N2JHSi7NKaag",
        "outputId": "2e158c2f-6ec8-4ace-b8e6-5fa0a5a3adb8"
      },
      "source": [
        "# Data shape and columns\n",
        "print(df_train.shape)\n",
        "print(df_train.columns)"
      ],
      "execution_count": 118,
      "outputs": [
        {
          "output_type": "stream",
          "text": [
            "(1070, 8)\n",
            "Index(['age', 'sex', 'bmi', 'children', 'smoker', 'region', 'charges',\n",
            "       'insuranceclaim'],\n",
            "      dtype='object')\n"
          ],
          "name": "stdout"
        }
      ]
    },
    {
      "cell_type": "code",
      "metadata": {
        "colab": {
          "base_uri": "https://localhost:8080/"
        },
        "id": "Y_N3FeHZKnSp",
        "outputId": "2e009d99-bd19-4eef-86ce-f28d9eedf6d3"
      },
      "source": [
        "df_train.info()\n",
        "\n",
        "# No missing data "
      ],
      "execution_count": 119,
      "outputs": [
        {
          "output_type": "stream",
          "text": [
            "<class 'pandas.core.frame.DataFrame'>\n",
            "RangeIndex: 1070 entries, 0 to 1069\n",
            "Data columns (total 8 columns):\n",
            " #   Column          Non-Null Count  Dtype  \n",
            "---  ------          --------------  -----  \n",
            " 0   age             1070 non-null   int64  \n",
            " 1   sex             1070 non-null   int64  \n",
            " 2   bmi             1070 non-null   float64\n",
            " 3   children        1070 non-null   int64  \n",
            " 4   smoker          1070 non-null   int64  \n",
            " 5   region          1070 non-null   int64  \n",
            " 6   charges         1070 non-null   float64\n",
            " 7   insuranceclaim  1070 non-null   int64  \n",
            "dtypes: float64(2), int64(6)\n",
            "memory usage: 67.0 KB\n"
          ],
          "name": "stdout"
        }
      ]
    },
    {
      "cell_type": "code",
      "metadata": {
        "colab": {
          "base_uri": "https://localhost:8080/",
          "height": 300
        },
        "id": "kv2yL7RtKxNG",
        "outputId": "bd60e732-3882-45c6-a28a-ef612466d43b"
      },
      "source": [
        "# Describe data\n",
        "df_train.describe()"
      ],
      "execution_count": 120,
      "outputs": [
        {
          "output_type": "execute_result",
          "data": {
            "text/html": [
              "<div>\n",
              "<style scoped>\n",
              "    .dataframe tbody tr th:only-of-type {\n",
              "        vertical-align: middle;\n",
              "    }\n",
              "\n",
              "    .dataframe tbody tr th {\n",
              "        vertical-align: top;\n",
              "    }\n",
              "\n",
              "    .dataframe thead th {\n",
              "        text-align: right;\n",
              "    }\n",
              "</style>\n",
              "<table border=\"1\" class=\"dataframe\">\n",
              "  <thead>\n",
              "    <tr style=\"text-align: right;\">\n",
              "      <th></th>\n",
              "      <th>age</th>\n",
              "      <th>sex</th>\n",
              "      <th>bmi</th>\n",
              "      <th>children</th>\n",
              "      <th>smoker</th>\n",
              "      <th>region</th>\n",
              "      <th>charges</th>\n",
              "      <th>insuranceclaim</th>\n",
              "    </tr>\n",
              "  </thead>\n",
              "  <tbody>\n",
              "    <tr>\n",
              "      <th>count</th>\n",
              "      <td>1070.000000</td>\n",
              "      <td>1070.000000</td>\n",
              "      <td>1070.000000</td>\n",
              "      <td>1070.000000</td>\n",
              "      <td>1070.000000</td>\n",
              "      <td>1070.000000</td>\n",
              "      <td>1070.000000</td>\n",
              "      <td>1070.000000</td>\n",
              "    </tr>\n",
              "    <tr>\n",
              "      <th>mean</th>\n",
              "      <td>39.030841</td>\n",
              "      <td>0.495327</td>\n",
              "      <td>30.490196</td>\n",
              "      <td>1.128037</td>\n",
              "      <td>0.203738</td>\n",
              "      <td>1.516822</td>\n",
              "      <td>13262.895208</td>\n",
              "      <td>0.568224</td>\n",
              "    </tr>\n",
              "    <tr>\n",
              "      <th>std</th>\n",
              "      <td>13.951271</td>\n",
              "      <td>0.500212</td>\n",
              "      <td>6.109707</td>\n",
              "      <td>1.211675</td>\n",
              "      <td>0.402965</td>\n",
              "      <td>1.110035</td>\n",
              "      <td>12125.948212</td>\n",
              "      <td>0.495555</td>\n",
              "    </tr>\n",
              "    <tr>\n",
              "      <th>min</th>\n",
              "      <td>18.000000</td>\n",
              "      <td>0.000000</td>\n",
              "      <td>15.960000</td>\n",
              "      <td>0.000000</td>\n",
              "      <td>0.000000</td>\n",
              "      <td>0.000000</td>\n",
              "      <td>1121.873900</td>\n",
              "      <td>0.000000</td>\n",
              "    </tr>\n",
              "    <tr>\n",
              "      <th>25%</th>\n",
              "      <td>27.000000</td>\n",
              "      <td>0.000000</td>\n",
              "      <td>26.030000</td>\n",
              "      <td>0.000000</td>\n",
              "      <td>0.000000</td>\n",
              "      <td>1.000000</td>\n",
              "      <td>4651.971162</td>\n",
              "      <td>0.000000</td>\n",
              "    </tr>\n",
              "    <tr>\n",
              "      <th>50%</th>\n",
              "      <td>39.000000</td>\n",
              "      <td>0.000000</td>\n",
              "      <td>30.140000</td>\n",
              "      <td>1.000000</td>\n",
              "      <td>0.000000</td>\n",
              "      <td>2.000000</td>\n",
              "      <td>9341.303300</td>\n",
              "      <td>1.000000</td>\n",
              "    </tr>\n",
              "    <tr>\n",
              "      <th>75%</th>\n",
              "      <td>51.000000</td>\n",
              "      <td>1.000000</td>\n",
              "      <td>34.320000</td>\n",
              "      <td>2.000000</td>\n",
              "      <td>0.000000</td>\n",
              "      <td>2.000000</td>\n",
              "      <td>17117.636460</td>\n",
              "      <td>1.000000</td>\n",
              "    </tr>\n",
              "    <tr>\n",
              "      <th>max</th>\n",
              "      <td>64.000000</td>\n",
              "      <td>1.000000</td>\n",
              "      <td>53.130000</td>\n",
              "      <td>5.000000</td>\n",
              "      <td>1.000000</td>\n",
              "      <td>3.000000</td>\n",
              "      <td>63770.428010</td>\n",
              "      <td>1.000000</td>\n",
              "    </tr>\n",
              "  </tbody>\n",
              "</table>\n",
              "</div>"
            ],
            "text/plain": [
              "               age          sex  ...       charges  insuranceclaim\n",
              "count  1070.000000  1070.000000  ...   1070.000000     1070.000000\n",
              "mean     39.030841     0.495327  ...  13262.895208        0.568224\n",
              "std      13.951271     0.500212  ...  12125.948212        0.495555\n",
              "min      18.000000     0.000000  ...   1121.873900        0.000000\n",
              "25%      27.000000     0.000000  ...   4651.971162        0.000000\n",
              "50%      39.000000     0.000000  ...   9341.303300        1.000000\n",
              "75%      51.000000     1.000000  ...  17117.636460        1.000000\n",
              "max      64.000000     1.000000  ...  63770.428010        1.000000\n",
              "\n",
              "[8 rows x 8 columns]"
            ]
          },
          "metadata": {
            "tags": []
          },
          "execution_count": 120
        }
      ]
    },
    {
      "cell_type": "markdown",
      "metadata": {
        "id": "r9bsUYk6rGxP"
      },
      "source": [
        "##Visualizing the data"
      ]
    },
    {
      "cell_type": "code",
      "metadata": {
        "colab": {
          "base_uri": "https://localhost:8080/",
          "height": 879
        },
        "id": "K4wM3ygXYpu7",
        "outputId": "260835a4-f476-4614-86ad-ebe7b41bbc9b"
      },
      "source": [
        "# Data distribution\n",
        "\n",
        "data_distribution = df_train.hist(figsize=(15,15))\n",
        "plt.show();\n",
        "\n",
        "# Target variable i.e. insuranceclaim is not much imbalanced\n",
        "#charges is right skewed (we can take log of it - normal distb)"
      ],
      "execution_count": 121,
      "outputs": [
        {
          "output_type": "display_data",
          "data": {
            "image/png": "[encoded data removed]",
            "text/plain": [
              "<Figure size 1080x1080 with 9 Axes>"
            ]
          },
          "metadata": {
            "tags": [],
            "needs_background": "light"
          }
        }
      ]
    },
    {
      "cell_type": "code",
      "metadata": {
        "colab": {
          "base_uri": "https://localhost:8080/",
          "height": 442
        },
        "id": "3UkOIRbEgg6d",
        "outputId": "7e46c9be-e92e-4a79-dfae-44b8eeb2bc3f"
      },
      "source": [
        "# Insurance claim w.r.t sex\n",
        "\n",
        "plt.figure(figsize=(12,7))\n",
        "sns.countplot(x='sex', hue='insuranceclaim', data=df_train);\n",
        "\n",
        "#No pattern \n",
        "#I think it's not so important feature, we will see"
      ],
      "execution_count": 122,
      "outputs": [
        {
          "output_type": "display_data",
          "data": {
            "image/png": "[encoded data removed]",
            "text/plain": [
              "<Figure size 864x504 with 1 Axes>"
            ]
          },
          "metadata": {
            "tags": [],
            "needs_background": "light"
          }
        }
      ]
    },
    {
      "cell_type": "code",
      "metadata": {
        "colab": {
          "base_uri": "https://localhost:8080/",
          "height": 442
        },
        "id": "VkfO7Z9UhSCG",
        "outputId": "0fb3d34e-ce76-4514-9107-fe8210f403e8"
      },
      "source": [
        "# Insurance claim w.r.t children\n",
        "\n",
        "plt.figure(figsize=(12,7))\n",
        "sns.countplot(x='children', hue='insuranceclaim', data=df_train);\n",
        "\n",
        "#Observation - Less children, high chance to get a loan (No children - Very high)\n",
        "# good feature"
      ],
      "execution_count": 123,
      "outputs": [
        {
          "output_type": "display_data",
          "data": {
            "image/png": "[encoded data removed]",
            "text/plain": [
              "<Figure size 864x504 with 1 Axes>"
            ]
          },
          "metadata": {
            "tags": [],
            "needs_background": "light"
          }
        }
      ]
    },
    {
      "cell_type": "code",
      "metadata": {
        "colab": {
          "base_uri": "https://localhost:8080/",
          "height": 442
        },
        "id": "Zkd1W8hBjOKN",
        "outputId": "c75f5895-4e2e-4ea4-f0fe-403b7824862d"
      },
      "source": [
        "# Insurance claim w.r.t region\n",
        "\n",
        "plt.figure(figsize=(12,7))\n",
        "sns.countplot(x='region', hue='insuranceclaim', data=df_train);\n",
        "\n",
        "#Observation - Region 2 i.e. southeast has high chance to get a loan"
      ],
      "execution_count": 124,
      "outputs": [
        {
          "output_type": "display_data",
          "data": {
            "image/png": "[encoded data removed]",
            "text/plain": [
              "<Figure size 864x504 with 1 Axes>"
            ]
          },
          "metadata": {
            "tags": [],
            "needs_background": "light"
          }
        }
      ]
    },
    {
      "cell_type": "code",
      "metadata": {
        "colab": {
          "base_uri": "https://localhost:8080/",
          "height": 265
        },
        "id": "BdldsclMkI7s",
        "outputId": "a185b74a-2785-42e6-9826-970edc3fe8b1"
      },
      "source": [
        "# Charges\n",
        "\n",
        "plt.scatter(df_train['charges'], df_train['insuranceclaim']);\n",
        "\n",
        "# No pattern"
      ],
      "execution_count": 125,
      "outputs": [
        {
          "output_type": "display_data",
          "data": {
            "image/png": "[encoded data removed]",
            "text/plain": [
              "<Figure size 432x288 with 1 Axes>"
            ]
          },
          "metadata": {
            "tags": [],
            "needs_background": "light"
          }
        }
      ]
    },
    {
      "cell_type": "code",
      "metadata": {
        "colab": {
          "base_uri": "https://localhost:8080/",
          "height": 731
        },
        "id": "OkuXEfHudk1q",
        "outputId": "8e1f2223-ee6c-4152-e3cf-e012fce0922d"
      },
      "source": [
        "# correlation\n",
        "corr = df_train.corr()\n",
        "\n",
        "plt.figure(figsize=(15,12))\n",
        "plt.title('Correlation Matrix')\n",
        "\n",
        "sns.heatmap(corr,square=True,annot = True)\n",
        "plt.show();\n",
        "\n",
        "#bmi, smoker, charges are more correlated (positively) to insuranceclaim \n",
        "#children is correlated (negatively) to insuranceclaim"
      ],
      "execution_count": 126,
      "outputs": [
        {
          "output_type": "display_data",
          "data": {
            "image/png": "[encoded data removed]",
            "text/plain": [
              "<Figure size 1080x864 with 2 Axes>"
            ]
          },
          "metadata": {
            "tags": [],
            "needs_background": "light"
          }
        }
      ]
    },
    {
      "cell_type": "markdown",
      "metadata": {
        "id": "JKW-SFMjHA-g"
      },
      "source": [
        "### Model building\n",
        "\n"
      ]
    },
    {
      "cell_type": "code",
      "metadata": {
        "colab": {
          "base_uri": "https://localhost:8080/"
        },
        "id": "FS5aKeqZHA-i",
        "outputId": "bd15ff90-90df-488e-e9c1-f2a8f7cb97d8"
      },
      "source": [
        "# Code starts here\n",
        "\n",
        "#Rightly skewed 'charges' to normal distb\n",
        "df_train['charges'] = np.log(df_train['charges']) \n",
        "\n",
        "#Splitting training set\n",
        "X=df_train[['bmi', 'smoker','children','charges']]\n",
        "y=df_train['insuranceclaim']\n",
        "\n",
        "print(X.head())\n",
        "print(y.head())\n",
        "\n",
        "\n",
        "#we split 75% of the data to training set while 25% of the data to validation \n",
        "X_train, X_valid, y_train, y_valid = train_test_split(X, y, test_size=0.25, random_state=0)\n",
        "\n",
        "#X_train, X_valid shape\n",
        "print(X_train.shape)\n",
        "print(X_valid.shape)\n",
        "\n",
        "# Code ends here."
      ],
      "execution_count": 127,
      "outputs": [
        {
          "output_type": "stream",
          "text": [
            "     bmi  smoker  children    charges\n",
            "0  30.30       0         0   7.875876\n",
            "1  19.80       0         1   8.125308\n",
            "2  31.35       1         1  10.585485\n",
            "3  30.69       0         2   8.953049\n",
            "4  24.60       0         2   8.418362\n",
            "0    1\n",
            "1    0\n",
            "2    1\n",
            "3    0\n",
            "4    0\n",
            "Name: insuranceclaim, dtype: int64\n",
            "(802, 4)\n",
            "(268, 4)\n"
          ],
          "name": "stdout"
        }
      ]
    },
    {
      "cell_type": "code",
      "metadata": {
        "colab": {
          "base_uri": "https://localhost:8080/"
        },
        "id": "StCKmE4hbsD7",
        "outputId": "cb0ca811-fded-498d-90e7-e51de918cfaf"
      },
      "source": [
        "# fit the model\n",
        "logreg = LogisticRegression() \n",
        "logreg.fit(X_train, y_train) \n",
        "\n",
        "# making predictions\n",
        "y_pred = logreg.predict(X_valid)\n",
        "\n",
        "#roc_auc score\n",
        "roc=roc_auc_score(y_valid, y_pred)\n",
        "print(roc)\n",
        "\n",
        "# accuracy\n",
        "acc = accuracy_score(y_valid, y_pred)\n",
        "print(acc)\n",
        "\n"
      ],
      "execution_count": 128,
      "outputs": [
        {
          "output_type": "stream",
          "text": [
            "0.9072182793837632\n",
            "0.9104477611940298\n"
          ],
          "name": "stdout"
        }
      ]
    },
    {
      "cell_type": "markdown",
      "metadata": {
        "id": "oajlF0LyHA-i"
      },
      "source": [
        "### Prediction on the test data and creating the sample submission file."
      ]
    },
    {
      "cell_type": "code",
      "metadata": {
        "colab": {
          "base_uri": "https://localhost:8080/"
        },
        "id": "K6hVA0RIHA-k",
        "outputId": "be1791ca-e4cd-4a40-a208-ca234d020e3a"
      },
      "source": [
        "# Code starts here\n",
        "#the Id column in a separate variable : test_id\n",
        "test_id = df_test['Id']\n",
        "df_test.drop(['Id'], axis=1, inplace=True) \n",
        "\n",
        "#Test data shape and columns\n",
        "print(df_test.shape)\n",
        "print(df_test.columns)\n",
        "\n",
        "# Code ends here."
      ],
      "execution_count": 129,
      "outputs": [
        {
          "output_type": "stream",
          "text": [
            "(268, 7)\n",
            "Index(['age', 'sex', 'bmi', 'children', 'smoker', 'region', 'charges'], dtype='object')\n"
          ],
          "name": "stdout"
        }
      ]
    },
    {
      "cell_type": "code",
      "metadata": {
        "colab": {
          "base_uri": "https://localhost:8080/"
        },
        "id": "-1_jo6JceEDU",
        "outputId": "7791a347-a3f9-4279-b9be-c6a8ee945c5c"
      },
      "source": [
        "#Rightly skewed 'charges' to normal distb\n",
        "df_test['charges'] = np.log(df_test['charges']) \n",
        "\n",
        "#Features selected from test data\n",
        "X_test=df_test[['bmi', 'smoker','children','charges']]\n",
        "\n",
        "#make prediction : insuranceclaim\n",
        "ytest_pred=logreg.predict(X_test)\n",
        "\n",
        "#Making df for submission\n",
        "subm=pd.DataFrame({\"Id\": test_id, \"insuranceclaim\": ytest_pred})\n",
        "print(subm.head())"
      ],
      "execution_count": 130,
      "outputs": [
        {
          "output_type": "stream",
          "text": [
            "     Id  insuranceclaim\n",
            "0   811               1\n",
            "1   973               1\n",
            "2   308               1\n",
            "3   845               1\n",
            "4  1050               1\n"
          ],
          "name": "stdout"
        }
      ]
    },
    {
      "cell_type": "code",
      "metadata": {
        "id": "B1lHncIHeUS3"
      },
      "source": [
        "# To CSV for submission\n",
        "#subm.to_csv('submission_1.csv',index=False)\n",
        "\n",
        "#from google.colab import files\n",
        "#files.download('submission_1.csv') "
      ],
      "execution_count": 131,
      "outputs": []
    }
  ]
}
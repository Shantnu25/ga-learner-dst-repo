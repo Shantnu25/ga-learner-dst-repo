{
  "nbformat": 4,
  "nbformat_minor": 0,
  "metadata": {
    "kernelspec": {
      "display_name": "Python 3",
      "language": "python",
      "name": "python3"
    },
    "language_info": {
      "codemirror_mode": {
        "name": "ipython",
        "version": 3
      },
      "file_extension": ".py",
      "mimetype": "text/x-python",
      "name": "python",
      "nbconvert_exporter": "python",
      "pygments_lexer": "ipython3",
      "version": "3.7.6"
    },
    "colab": {
      "name": "NLP_Assessment.ipynb",
      "provenance": [],
      "collapsed_sections": []
    }
  },
  "cells": [
    {
      "cell_type": "code",
      "metadata": {
        "colab": {
          "base_uri": "https://localhost:8080/"
        },
        "id": "RjqfH1xy-gl4",
        "outputId": "3846e694-fe69-4072-919c-7c463da45aa2"
      },
      "source": [
        "#Using Google Colab : Mounting google drive\n",
        "from google.colab import drive\n",
        "drive.mount('/content/drive')"
      ],
      "execution_count": 45,
      "outputs": [
        {
          "output_type": "stream",
          "text": [
            "Drive already mounted at /content/drive; to attempt to forcibly remount, call drive.mount(\"/content/drive\", force_remount=True).\n"
          ],
          "name": "stdout"
        }
      ]
    },
    {
      "cell_type": "code",
      "metadata": {
        "colab": {
          "base_uri": "https://localhost:8080/"
        },
        "id": "P0sTLPQlFgVX",
        "outputId": "00af646e-2f90-4be3-aaba-6747551ce457"
      },
      "source": [
        "import nltk\n",
        "nltk.download('stopwords')"
      ],
      "execution_count": 46,
      "outputs": [
        {
          "output_type": "stream",
          "text": [
            "[nltk_data] Downloading package stopwords to /root/nltk_data...\n",
            "[nltk_data]   Package stopwords is already up-to-date!\n"
          ],
          "name": "stdout"
        },
        {
          "output_type": "execute_result",
          "data": {
            "text/plain": [
              "True"
            ]
          },
          "metadata": {
            "tags": []
          },
          "execution_count": 46
        }
      ]
    },
    {
      "cell_type": "code",
      "metadata": {
        "id": "-cWFm076-QoQ"
      },
      "source": [
        "# import packages\n",
        "import numpy as np\n",
        "import pandas as pd\n",
        "import matplotlib.pyplot as plt\n",
        "\n",
        "import seaborn as sns\n",
        "import re\n",
        "from nltk.corpus import stopwords\n",
        "from sklearn.model_selection import train_test_split\n",
        "from sklearn.feature_extraction.text import CountVectorizer, TfidfVectorizer\n",
        "from sklearn.naive_bayes import MultinomialNB\n",
        "from sklearn.multiclass import OneVsRestClassifier\n",
        "from sklearn.linear_model import LogisticRegression\n",
        "from sklearn.metrics import accuracy_score ,confusion_matrix\n",
        "\n",
        "import warnings\n",
        "warnings.filterwarnings('ignore')"
      ],
      "execution_count": 47,
      "outputs": []
    },
    {
      "cell_type": "markdown",
      "metadata": {
        "id": "y382chmh-low"
      },
      "source": [
        "##Problem Statement\n",
        "\n",
        "To predict which class a particular resource belongs to given the title of the resource. \n",
        "\n",
        "```\n",
        "We are given references to news pages collected from an web aggregator in the period from 10-March-2014 to 10-August-2014. \n",
        "The resources are grouped into categories that represent pages discussing the same story. \n",
        "\n",
        "News categories included in this dataset include business(b); science and technology(t); entertainment(e); and health(h). \n",
        "\n",
        "This dataset comes from the UCI Machine Learning Repository.\n",
        "In total there are 422937 resources available in the dataset.\n",
        "The columns included in this dataset are:\n",
        "\n",
        "    ID: the numeric ID of the article\n",
        "    TITLE: the headline of the article\n",
        "    CATEGORY: the category of the news item; one of: b:business, t:science and technology, e: entertainment and m:health\n",
        "\n",
        "```\n"
      ]
    },
    {
      "cell_type": "markdown",
      "metadata": {
        "id": "awamX5gO-QoY"
      },
      "source": [
        "### Load the dataset\n"
      ]
    },
    {
      "cell_type": "code",
      "metadata": {
        "id": "CE4tgqNK-Qoa"
      },
      "source": [
        "# read the dataset and extract the test  and train data separately\n",
        "df_train=pd.read_csv('/content/drive/MyDrive/NLP_assesment/train.csv')\n",
        "df_test=pd.read_csv('/content/drive/MyDrive/NLP_assesment/test.csv')"
      ],
      "execution_count": 48,
      "outputs": []
    },
    {
      "cell_type": "code",
      "metadata": {
        "id": "Lit9xAVaHG4l"
      },
      "source": [
        "#Dropping df_train Id column : Id\n",
        "train_id = df_train['Id']\n",
        "df_train.drop(['Id'], axis=1, inplace=True)"
      ],
      "execution_count": 49,
      "outputs": []
    },
    {
      "cell_type": "code",
      "metadata": {
        "colab": {
          "base_uri": "https://localhost:8080/",
          "height": 363
        },
        "id": "l-i-Oa3C_2Eq",
        "outputId": "9a0a7869-efef-4a74-97ea-787976ba601b"
      },
      "source": [
        "#First look at data\n",
        "df_train.head(10)"
      ],
      "execution_count": 50,
      "outputs": [
        {
          "output_type": "execute_result",
          "data": {
            "text/html": [
              "<div>\n",
              "<style scoped>\n",
              "    .dataframe tbody tr th:only-of-type {\n",
              "        vertical-align: middle;\n",
              "    }\n",
              "\n",
              "    .dataframe tbody tr th {\n",
              "        vertical-align: top;\n",
              "    }\n",
              "\n",
              "    .dataframe thead th {\n",
              "        text-align: right;\n",
              "    }\n",
              "</style>\n",
              "<table border=\"1\" class=\"dataframe\">\n",
              "  <thead>\n",
              "    <tr style=\"text-align: right;\">\n",
              "      <th></th>\n",
              "      <th>TITLE</th>\n",
              "      <th>CATEGORY</th>\n",
              "    </tr>\n",
              "  </thead>\n",
              "  <tbody>\n",
              "    <tr>\n",
              "      <th>0</th>\n",
              "      <td>Ukraine to get $18 billion rescue from IMF</td>\n",
              "      <td>b</td>\n",
              "    </tr>\n",
              "    <tr>\n",
              "      <th>1</th>\n",
              "      <td>McDonald's Abandons Headquarters to Avoid Prot...</td>\n",
              "      <td>b</td>\n",
              "    </tr>\n",
              "    <tr>\n",
              "      <th>2</th>\n",
              "      <td>New study finds evidence that Autism begins in...</td>\n",
              "      <td>m</td>\n",
              "    </tr>\n",
              "    <tr>\n",
              "      <th>3</th>\n",
              "      <td>Prime Minister Modi Says Meeting With Facebook...</td>\n",
              "      <td>t</td>\n",
              "    </tr>\n",
              "    <tr>\n",
              "      <th>4</th>\n",
              "      <td>New robot guides at Tokyo museum almost outper...</td>\n",
              "      <td>t</td>\n",
              "    </tr>\n",
              "    <tr>\n",
              "      <th>5</th>\n",
              "      <td>RCMP asked for delay of CRA's stolen data anno...</td>\n",
              "      <td>b</td>\n",
              "    </tr>\n",
              "    <tr>\n",
              "      <th>6</th>\n",
              "      <td>'Sharknado 2' Sucks In 3.9 Million Viewers, Sp...</td>\n",
              "      <td>e</td>\n",
              "    </tr>\n",
              "    <tr>\n",
              "      <th>7</th>\n",
              "      <td>How Tim Cook Is Taking Steve Jobs' Advice to H...</td>\n",
              "      <td>t</td>\n",
              "    </tr>\n",
              "    <tr>\n",
              "      <th>8</th>\n",
              "      <td>WATCH: Huge aquarium breaks at Disney World re...</td>\n",
              "      <td>b</td>\n",
              "    </tr>\n",
              "    <tr>\n",
              "      <th>9</th>\n",
              "      <td>CURRENCIES: Dollar Falls Vs. Rivals; Euro Rebo...</td>\n",
              "      <td>b</td>\n",
              "    </tr>\n",
              "  </tbody>\n",
              "</table>\n",
              "</div>"
            ],
            "text/plain": [
              "                                               TITLE CATEGORY\n",
              "0         Ukraine to get $18 billion rescue from IMF        b\n",
              "1  McDonald's Abandons Headquarters to Avoid Prot...        b\n",
              "2  New study finds evidence that Autism begins in...        m\n",
              "3  Prime Minister Modi Says Meeting With Facebook...        t\n",
              "4  New robot guides at Tokyo museum almost outper...        t\n",
              "5  RCMP asked for delay of CRA's stolen data anno...        b\n",
              "6  'Sharknado 2' Sucks In 3.9 Million Viewers, Sp...        e\n",
              "7  How Tim Cook Is Taking Steve Jobs' Advice to H...        t\n",
              "8  WATCH: Huge aquarium breaks at Disney World re...        b\n",
              "9  CURRENCIES: Dollar Falls Vs. Rivals; Euro Rebo...        b"
            ]
          },
          "metadata": {
            "tags": []
          },
          "execution_count": 50
        }
      ]
    },
    {
      "cell_type": "code",
      "metadata": {
        "colab": {
          "base_uri": "https://localhost:8080/"
        },
        "id": "fmfoYGYI_6Qu",
        "outputId": "6aea0459-6166-452a-9bd8-2fdeea9e7c79"
      },
      "source": [
        "# Data shape and columns\n",
        "print(df_train.shape)\n",
        "print(df_train.columns)"
      ],
      "execution_count": 51,
      "outputs": [
        {
          "output_type": "stream",
          "text": [
            "(337935, 2)\n",
            "Index(['TITLE', 'CATEGORY'], dtype='object')\n"
          ],
          "name": "stdout"
        }
      ]
    },
    {
      "cell_type": "code",
      "metadata": {
        "colab": {
          "base_uri": "https://localhost:8080/"
        },
        "id": "Wr6KeOBH_7ya",
        "outputId": "d0fd1f8e-ee05-4fd6-8ba7-cd81bb68505c"
      },
      "source": [
        "#Data Info\n",
        "df_train.info()\n",
        "\n",
        "# No missing data "
      ],
      "execution_count": 52,
      "outputs": [
        {
          "output_type": "stream",
          "text": [
            "<class 'pandas.core.frame.DataFrame'>\n",
            "RangeIndex: 337935 entries, 0 to 337934\n",
            "Data columns (total 2 columns):\n",
            " #   Column    Non-Null Count   Dtype \n",
            "---  ------    --------------   ----- \n",
            " 0   TITLE     337935 non-null  object\n",
            " 1   CATEGORY  337935 non-null  object\n",
            "dtypes: object(2)\n",
            "memory usage: 5.2+ MB\n"
          ],
          "name": "stdout"
        }
      ]
    },
    {
      "cell_type": "markdown",
      "metadata": {
        "id": "3YDBEw7U-Qob"
      },
      "source": [
        "### Visualize and Preprocess the data"
      ]
    },
    {
      "cell_type": "code",
      "metadata": {
        "colab": {
          "base_uri": "https://localhost:8080/",
          "height": 296
        },
        "id": "D734mBMNLC1J",
        "outputId": "ab65a1d1-1f3a-4098-f42c-d1178cad4d97"
      },
      "source": [
        "#Categories - target \n",
        "sns.countplot(x='CATEGORY', data=df_train)"
      ],
      "execution_count": 70,
      "outputs": [
        {
          "output_type": "execute_result",
          "data": {
            "text/plain": [
              "<matplotlib.axes._subplots.AxesSubplot at 0x7f2312120650>"
            ]
          },
          "metadata": {
            "tags": []
          },
          "execution_count": 70
        },
        {
          "output_type": "display_data",
          "data": {
            "image/png": "[encoded data removed]",
            "text/plain": [
              "<Figure size 432x288 with 1 Axes>"
            ]
          },
          "metadata": {
            "tags": [],
            "needs_background": "light"
          }
        }
      ]
    },
    {
      "cell_type": "code",
      "metadata": {
        "id": "qd5CS1o2-Qoc"
      },
      "source": [
        "# stopwords \n",
        "stop = set(stopwords.words('english'))\n",
        "\n",
        "# retain only alphabets\n",
        "df_train['TITLE'] = df_train['TITLE'].apply(lambda x:re.sub('[^a-zA-Z]', ' ',x))\n",
        "\n",
        "\n",
        "# convert to lowercase and tokenize\n",
        "df_train['TITLE'] = df_train['TITLE'].apply(lambda x:x.lower().split())\n",
        "\n",
        "# remove stopwords\n",
        "df_train['TITLE'] = df_train['TITLE'].apply(lambda x:[i for i in x if i not in stop])\n",
        "\n",
        "# join list elements\n",
        "df_train['TITLE'] = df_train['TITLE'].apply(lambda x: ' '.join(x))\n"
      ],
      "execution_count": 53,
      "outputs": []
    },
    {
      "cell_type": "code",
      "metadata": {
        "colab": {
          "base_uri": "https://localhost:8080/"
        },
        "id": "zcf4VN51GTOM",
        "outputId": "37f9d927-57e1-4281-9fc4-30ca54a9700e"
      },
      "source": [
        "#Data after stopword removal, lowercase\n",
        "df_train['TITLE'].head()"
      ],
      "execution_count": 54,
      "outputs": [
        {
          "output_type": "execute_result",
          "data": {
            "text/plain": [
              "0                       ukraine get billion rescue imf\n",
              "1      mcdonald abandons headquarters avoid protesters\n",
              "2          new study finds evidence autism begins womb\n",
              "3    prime minister modi says meeting facebook coo ...\n",
              "4    new robot guides tokyo museum almost outperfor...\n",
              "Name: TITLE, dtype: object"
            ]
          },
          "metadata": {
            "tags": []
          },
          "execution_count": 54
        }
      ]
    },
    {
      "cell_type": "code",
      "metadata": {
        "id": "pGrYDWTvGRhZ"
      },
      "source": [
        "# split into training and test sets\n",
        "X_train, X_valid, Y_train , Y_valid = train_test_split(df_train[\"TITLE\"], df_train[\"CATEGORY\"], test_size = 0.25,random_state=3)"
      ],
      "execution_count": 55,
      "outputs": []
    },
    {
      "cell_type": "markdown",
      "metadata": {
        "id": "nC4nvk85Dz-L"
      },
      "source": [
        "### Vectorize with Bag-of-words and TF-IDF approach\n"
      ]
    },
    {
      "cell_type": "code",
      "metadata": {
        "id": "889C0RrA-Qod"
      },
      "source": [
        "# initialize count vectorizer\n",
        "count_vectorizer = CountVectorizer()\n",
        "\n",
        "# initialize tfidf vectorizer\n",
        "tfidf_vectorizer = TfidfVectorizer(ngram_range=(1,3))\n",
        "\n",
        "# fit and transform with count vectorizer\n",
        "X_train_count = count_vectorizer.fit_transform(X_train)\n",
        "X_valid_count = count_vectorizer.transform(X_valid)\n",
        "\n",
        "# fit and transform with tfidf vectorizer\n",
        "X_train_tfidf = tfidf_vectorizer.fit_transform(X_train)\n",
        "X_valid_tfidf = tfidf_vectorizer.transform(X_valid)"
      ],
      "execution_count": 56,
      "outputs": []
    },
    {
      "cell_type": "markdown",
      "metadata": {
        "id": "v5pWckPFEJYs"
      },
      "source": [
        "### Predicting with Multinomial Naive Bayes"
      ]
    },
    {
      "cell_type": "code",
      "metadata": {
        "colab": {
          "base_uri": "https://localhost:8080/"
        },
        "id": "38ybhAKrEOZX",
        "outputId": "0cbcf4a1-0d77-4a12-e78d-5da835cbc7bc"
      },
      "source": [
        "# initialize multinomial naive bayes\n",
        "nb_1 = MultinomialNB()\n",
        "nb_2 = MultinomialNB()\n",
        "\n",
        "# fit on count vectorizer training data\n",
        "nb_1.fit(X_train_count,Y_train)\n",
        "\n",
        "# fit on tfidf vectorizer training data\n",
        "nb_2.fit(X_train_tfidf,Y_train)\n",
        "\n",
        "# accuracy with count vectorizer\n",
        "acc_count_nb = accuracy_score(nb_1.predict(X_valid_count),Y_valid)\n",
        "# accuracy with tfidf vectorizer\n",
        "acc_tfidf_nb = accuracy_score(nb_2.predict(X_valid_tfidf),Y_valid)\n",
        "# display accuracies\n",
        "print(\"Count vectorizer Accuracy:\",acc_count_nb)\n",
        "print('TF-IDF Accuracy:',acc_tfidf_nb)"
      ],
      "execution_count": 57,
      "outputs": [
        {
          "output_type": "stream",
          "text": [
            "Count vectorizer Accuracy: 0.9268974006912551\n",
            "TF-IDF Accuracy: 0.9276312674589271\n"
          ],
          "name": "stdout"
        }
      ]
    },
    {
      "cell_type": "markdown",
      "metadata": {
        "id": "UNLbWAeOEX78"
      },
      "source": [
        "### Predicting with Logistic Regression\n"
      ]
    },
    {
      "cell_type": "code",
      "metadata": {
        "colab": {
          "base_uri": "https://localhost:8080/"
        },
        "id": "SOGyZyLeEcYD",
        "outputId": "51dbd50b-7ac8-4720-b125-25373644f841"
      },
      "source": [
        "# initialize logistic regression\n",
        "logreg_1 = OneVsRestClassifier(LogisticRegression(random_state=10))\n",
        "logreg_2 = OneVsRestClassifier(LogisticRegression(random_state=10))\n",
        "\n",
        "# fit on count vectorizer training data\n",
        "logreg_1.fit(X_train_count,Y_train)\n",
        "\n",
        "# fit on tfidf vectorizer training data\n",
        "logreg_2.fit(X_train_tfidf,Y_train)\n",
        "\n",
        "# accuracy with count vectorizer\n",
        "acc_count_logreg = accuracy_score(logreg_1.predict(X_valid_count), Y_valid)\n",
        "\n",
        "# accuracy with tfidf vectorizer\n",
        "acc_tfidf_logreg = accuracy_score(logreg_2.predict(X_valid_tfidf), Y_valid)\n",
        "\n",
        "# display accuracies\n",
        "print(\"Count vectorizer Accuracy:\",acc_count_logreg)\n",
        "print('TF-IDF Accuracy:',acc_tfidf_logreg)\n"
      ],
      "execution_count": 58,
      "outputs": [
        {
          "output_type": "stream",
          "text": [
            "Count vectorizer Accuracy: 0.9446285687230718\n",
            "TF-IDF Accuracy: 0.9407461767908717\n"
          ],
          "name": "stdout"
        }
      ]
    },
    {
      "cell_type": "markdown",
      "metadata": {
        "id": "-5q_66Fx-Qoh"
      },
      "source": [
        "### Prediction on the test data and creating the submission file.\n"
      ]
    },
    {
      "cell_type": "code",
      "metadata": {
        "colab": {
          "base_uri": "https://localhost:8080/"
        },
        "id": "AS-qLM3SGfi-",
        "outputId": "a332a8c0-c5b4-4109-e124-e7c21398e491"
      },
      "source": [
        "#the Id column in a separate variable : Id\n",
        "test_id = df_test['Id']\n",
        "df_test.drop(['Id'], axis=1, inplace=True)\n",
        "\n",
        "#Test data shape and columns names\n",
        "print(df_test.shape)\n",
        "print(df_test.columns)\n"
      ],
      "execution_count": 59,
      "outputs": [
        {
          "output_type": "stream",
          "text": [
            "(84484, 1)\n",
            "Index(['TITLE'], dtype='object')\n"
          ],
          "name": "stdout"
        }
      ]
    },
    {
      "cell_type": "code",
      "metadata": {
        "colab": {
          "base_uri": "https://localhost:8080/",
          "height": 206
        },
        "id": "xvxhcyz-G-UQ",
        "outputId": "d384c38e-f3ce-4939-c95e-ea9cebe296ff"
      },
      "source": [
        "#First look at test data\n",
        "df_test.head()"
      ],
      "execution_count": 60,
      "outputs": [
        {
          "output_type": "execute_result",
          "data": {
            "text/html": [
              "<div>\n",
              "<style scoped>\n",
              "    .dataframe tbody tr th:only-of-type {\n",
              "        vertical-align: middle;\n",
              "    }\n",
              "\n",
              "    .dataframe tbody tr th {\n",
              "        vertical-align: top;\n",
              "    }\n",
              "\n",
              "    .dataframe thead th {\n",
              "        text-align: right;\n",
              "    }\n",
              "</style>\n",
              "<table border=\"1\" class=\"dataframe\">\n",
              "  <thead>\n",
              "    <tr style=\"text-align: right;\">\n",
              "      <th></th>\n",
              "      <th>TITLE</th>\n",
              "    </tr>\n",
              "  </thead>\n",
              "  <tbody>\n",
              "    <tr>\n",
              "      <th>0</th>\n",
              "      <td>A simple blood test to detect 'solid' cancers?</td>\n",
              "    </tr>\n",
              "    <tr>\n",
              "      <th>1</th>\n",
              "      <td>Mozilla appoints veteran Chris Beard as interi...</td>\n",
              "    </tr>\n",
              "    <tr>\n",
              "      <th>2</th>\n",
              "      <td>FDA Abruptly Reverses Stance on Wooden Aging B...</td>\n",
              "    </tr>\n",
              "    <tr>\n",
              "      <th>3</th>\n",
              "      <td>Cancer stats confirm value of colonoscopy</td>\n",
              "    </tr>\n",
              "    <tr>\n",
              "      <th>4</th>\n",
              "      <td>Apple, Samsung playing games citing big number...</td>\n",
              "    </tr>\n",
              "  </tbody>\n",
              "</table>\n",
              "</div>"
            ],
            "text/plain": [
              "                                               TITLE\n",
              "0     A simple blood test to detect 'solid' cancers?\n",
              "1  Mozilla appoints veteran Chris Beard as interi...\n",
              "2  FDA Abruptly Reverses Stance on Wooden Aging B...\n",
              "3          Cancer stats confirm value of colonoscopy\n",
              "4  Apple, Samsung playing games citing big number..."
            ]
          },
          "metadata": {
            "tags": []
          },
          "execution_count": 60
        }
      ]
    },
    {
      "cell_type": "code",
      "metadata": {
        "id": "mlrdLK7mGgXG"
      },
      "source": [
        "# retain only alphabets\n",
        "df_test['TITLE'] = df_test['TITLE'].apply(lambda x:re.sub('[^a-zA-Z]', ' ',x))\n",
        "\n",
        "\n",
        "# convert to lowercase and tokenize\n",
        "df_test['TITLE'] = df_test['TITLE'].apply(lambda x:x.lower().split())\n",
        "\n",
        "# remove stopwords\n",
        "df_test['TITLE'] = df_test['TITLE'].apply(lambda x:[i for i in x if i not in stop])\n",
        "\n",
        "# join list elements\n",
        "df_test['TITLE'] = df_test['TITLE'].apply(lambda x: ' '.join(x))"
      ],
      "execution_count": 61,
      "outputs": []
    },
    {
      "cell_type": "code",
      "metadata": {
        "colab": {
          "base_uri": "https://localhost:8080/",
          "height": 206
        },
        "id": "M3D4aeykHRbo",
        "outputId": "e6dd6b83-17a7-437f-e164-fa93aa6f00bc"
      },
      "source": [
        "#Data after stopword removal, lowercase\n",
        "df_test.head()"
      ],
      "execution_count": 62,
      "outputs": [
        {
          "output_type": "execute_result",
          "data": {
            "text/html": [
              "<div>\n",
              "<style scoped>\n",
              "    .dataframe tbody tr th:only-of-type {\n",
              "        vertical-align: middle;\n",
              "    }\n",
              "\n",
              "    .dataframe tbody tr th {\n",
              "        vertical-align: top;\n",
              "    }\n",
              "\n",
              "    .dataframe thead th {\n",
              "        text-align: right;\n",
              "    }\n",
              "</style>\n",
              "<table border=\"1\" class=\"dataframe\">\n",
              "  <thead>\n",
              "    <tr style=\"text-align: right;\">\n",
              "      <th></th>\n",
              "      <th>TITLE</th>\n",
              "    </tr>\n",
              "  </thead>\n",
              "  <tbody>\n",
              "    <tr>\n",
              "      <th>0</th>\n",
              "      <td>simple blood test detect solid cancers</td>\n",
              "    </tr>\n",
              "    <tr>\n",
              "      <th>1</th>\n",
              "      <td>mozilla appoints veteran chris beard interim ceo</td>\n",
              "    </tr>\n",
              "    <tr>\n",
              "      <th>2</th>\n",
              "      <td>fda abruptly reverses stance wooden aging boar...</td>\n",
              "    </tr>\n",
              "    <tr>\n",
              "      <th>3</th>\n",
              "      <td>cancer stats confirm value colonoscopy</td>\n",
              "    </tr>\n",
              "    <tr>\n",
              "      <th>4</th>\n",
              "      <td>apple samsung playing games citing big numbers...</td>\n",
              "    </tr>\n",
              "  </tbody>\n",
              "</table>\n",
              "</div>"
            ],
            "text/plain": [
              "                                               TITLE\n",
              "0             simple blood test detect solid cancers\n",
              "1   mozilla appoints veteran chris beard interim ceo\n",
              "2  fda abruptly reverses stance wooden aging boar...\n",
              "3             cancer stats confirm value colonoscopy\n",
              "4  apple samsung playing games citing big numbers..."
            ]
          },
          "metadata": {
            "tags": []
          },
          "execution_count": 62
        }
      ]
    },
    {
      "cell_type": "code",
      "metadata": {
        "id": "ruxQCYRFI9Ns"
      },
      "source": [
        "# X_test\n",
        "X_test = df_test['TITLE']\n",
        "\n",
        "# transform with count vectorizer\n",
        "X_test_count = count_vectorizer.transform(X_test)\n",
        "\n",
        "# transform with tfidf vectorizer\n",
        "X_test_tfidf = tfidf_vectorizer.transform(X_test)"
      ],
      "execution_count": 63,
      "outputs": []
    },
    {
      "cell_type": "code",
      "metadata": {
        "id": "6eetWYKdJRZ6"
      },
      "source": [
        "#Predicting on count vectorizer using log reg (best result on valid)\n",
        "y_test_pred = logreg_1.predict(X_test_count)"
      ],
      "execution_count": 64,
      "outputs": []
    },
    {
      "cell_type": "code",
      "metadata": {
        "colab": {
          "base_uri": "https://localhost:8080/"
        },
        "id": "Dx7zXxEpH1mO",
        "outputId": "249a579a-9eec-4789-e256-a623de5f73db"
      },
      "source": [
        "#Making df for submission\n",
        "subm=pd.DataFrame({\"Unnamed: 0\": test_id, \"CATEGORY\": y_test_pred})\n",
        "print(subm.head())"
      ],
      "execution_count": 68,
      "outputs": [
        {
          "output_type": "stream",
          "text": [
            "   Unnamed: 0 CATEGORY\n",
            "0       86998        m\n",
            "1      112926        t\n",
            "2      280943        m\n",
            "3       37154        m\n",
            "4      152800        t\n"
          ],
          "name": "stdout"
        }
      ]
    },
    {
      "cell_type": "code",
      "metadata": {
        "colab": {
          "base_uri": "https://localhost:8080/",
          "height": 17
        },
        "id": "vIFwydl9H7LE",
        "outputId": "bac9cb1f-4a7c-495e-8a10-0de36fd8b256"
      },
      "source": [
        "# To CSV for submission\n",
        "subm.to_csv('CATEGORY.csv',index=False)\n",
        "\n",
        "#from google.colab import files\n",
        "#files.download('CATEGORY.csv')"
      ],
      "execution_count": 69,
      "outputs": [
        {
          "output_type": "display_data",
          "data": {
            "application/javascript": [
              "\n",
              "    async function download(id, filename, size) {\n",
              "      if (!google.colab.kernel.accessAllowed) {\n",
              "        return;\n",
              "      }\n",
              "      const div = document.createElement('div');\n",
              "      const label = document.createElement('label');\n",
              "      label.textContent = `Downloading \"${filename}\": `;\n",
              "      div.appendChild(label);\n",
              "      const progress = document.createElement('progress');\n",
              "      progress.max = size;\n",
              "      div.appendChild(progress);\n",
              "      document.body.appendChild(div);\n",
              "\n",
              "      const buffers = [];\n",
              "      let downloaded = 0;\n",
              "\n",
              "      const channel = await google.colab.kernel.comms.open(id);\n",
              "      // Send a message to notify the kernel that we're ready.\n",
              "      channel.send({})\n",
              "\n",
              "      for await (const message of channel.messages) {\n",
              "        // Send a message to notify the kernel that we're ready.\n",
              "        channel.send({})\n",
              "        if (message.buffers) {\n",
              "          for (const buffer of message.buffers) {\n",
              "            buffers.push(buffer);\n",
              "            downloaded += buffer.byteLength;\n",
              "            progress.value = downloaded;\n",
              "          }\n",
              "        }\n",
              "      }\n",
              "      const blob = new Blob(buffers, {type: 'application/binary'});\n",
              "      const a = document.createElement('a');\n",
              "      a.href = window.URL.createObjectURL(blob);\n",
              "      a.download = filename;\n",
              "      div.appendChild(a);\n",
              "      a.click();\n",
              "      div.remove();\n",
              "    }\n",
              "  "
            ],
            "text/plain": [
              "<IPython.core.display.Javascript object>"
            ]
          },
          "metadata": {
            "tags": []
          }
        },
        {
          "output_type": "display_data",
          "data": {
            "application/javascript": [
              "download(\"download_19c8ad16-f6fb-4c58-8687-640704400178\", \"CATEGORY.csv\", 738136)"
            ],
            "text/plain": [
              "<IPython.core.display.Javascript object>"
            ]
          },
          "metadata": {
            "tags": []
          }
        }
      ]
    }
  ]
}

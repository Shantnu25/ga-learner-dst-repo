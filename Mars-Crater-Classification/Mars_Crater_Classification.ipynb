{
  "nbformat": 4,
  "nbformat_minor": 0,
  "metadata": {
    "kernelspec": {
      "display_name": "Python 3",
      "language": "python",
      "name": "python3"
    },
    "language_info": {
      "codemirror_mode": {
        "name": "ipython",
        "version": 3
      },
      "file_extension": ".py",
      "mimetype": "text/x-python",
      "name": "python",
      "nbconvert_exporter": "python",
      "pygments_lexer": "ipython3",
      "version": "3.7.3"
    },
    "colab": {
      "name": "Mars_Crater_Classification.ipynb",
      "provenance": []
    },
    "accelerator": "TPU"
  },
  "cells": [
    {
      "cell_type": "code",
      "metadata": {
        "colab": {
          "base_uri": "https://localhost:8080/"
        },
        "id": "YxPCYHNNjthw",
        "outputId": "1a30bf07-725f-453f-dd2b-dec8d6519bd6"
      },
      "source": [
        "#Using Goole Colab : Mounting google drive\n",
        "from google.colab import drive\n",
        "drive.mount('/content/drive')"
      ],
      "execution_count": 1,
      "outputs": [
        {
          "output_type": "stream",
          "text": [
            "Drive already mounted at /content/drive; to attempt to forcibly remount, call drive.mount(\"/content/drive\", force_remount=True).\n"
          ],
          "name": "stdout"
        }
      ]
    },
    {
      "cell_type": "code",
      "metadata": {
        "id": "iGAQ9wAqjo1Y"
      },
      "source": [
        "# import the modules\n",
        "\n",
        "import pandas as pd\n",
        "import numpy as np\n",
        "import matplotlib.pyplot as plt\n",
        "import seaborn as sns\n",
        "pd.set_option('display.max_columns',None)\n",
        "\n",
        "from sklearn.model_selection import train_test_split\n",
        "from sklearn.preprocessing import LabelEncoder\n",
        "from sklearn.ensemble import RandomForestClassifier ,GradientBoostingClassifier\n",
        "from sklearn.model_selection import GridSearchCV, RandomizedSearchCV\n",
        "from sklearn.metrics import roc_auc_score,accuracy_score,classification_report,roc_curve,confusion_matrix\n",
        "\n",
        "import warnings\n",
        "warnings.filterwarnings('ignore')\n"
      ],
      "execution_count": 2,
      "outputs": []
    },
    {
      "cell_type": "markdown",
      "metadata": {
        "id": "WIrdN9y9kI4w"
      },
      "source": [
        "## Problem Statement\n",
        "\n",
        "Determine if the instance is a crater or not a crater. 1=Crater, 0=Not Crater\n",
        "```\n",
        "This dataset was generated using HRSC nadir panchromatic image h0905_0000 taken by the Mars Express spacecraft.\n",
        "The images are located in the Xanthe Terra, centered on Nanedi Vallis and covers mostly Noachian terrain on Mars.\n",
        "The image had a resolution of 12.5 meters/pixel.\n",
        "```"
      ]
    },
    {
      "cell_type": "code",
      "metadata": {
        "colab": {
          "base_uri": "https://localhost:8080/",
          "height": 206
        },
        "id": "qZUbTaMTkG0i",
        "outputId": "d0fc59ea-3cc2-4605-a924-40f453534008"
      },
      "source": [
        "#Feature Description\n",
        "feat_desc=pd.read_excel('/content/drive/MyDrive/Mars Crater Classification/Mars_Crater_Data_Dictionary.xlsx')\n",
        "feat_desc"
      ],
      "execution_count": 3,
      "outputs": [
        {
          "output_type": "execute_result",
          "data": {
            "text/html": [
              "<div>\n",
              "<style scoped>\n",
              "    .dataframe tbody tr th:only-of-type {\n",
              "        vertical-align: middle;\n",
              "    }\n",
              "\n",
              "    .dataframe tbody tr th {\n",
              "        vertical-align: top;\n",
              "    }\n",
              "\n",
              "    .dataframe thead th {\n",
              "        text-align: right;\n",
              "    }\n",
              "</style>\n",
              "<table border=\"1\" class=\"dataframe\">\n",
              "  <thead>\n",
              "    <tr style=\"text-align: right;\">\n",
              "      <th></th>\n",
              "      <th>Features</th>\n",
              "      <th>Description</th>\n",
              "    </tr>\n",
              "  </thead>\n",
              "  <tbody>\n",
              "    <tr>\n",
              "      <th>0</th>\n",
              "      <td>attr0</td>\n",
              "      <td>attribute vectors to represent each crater can...</td>\n",
              "    </tr>\n",
              "    <tr>\n",
              "      <th>1</th>\n",
              "      <td>attr1</td>\n",
              "      <td>NaN</td>\n",
              "    </tr>\n",
              "    <tr>\n",
              "      <th>2</th>\n",
              "      <td>...</td>\n",
              "      <td>NaN</td>\n",
              "    </tr>\n",
              "    <tr>\n",
              "      <th>3</th>\n",
              "      <td>attr1088</td>\n",
              "      <td>NaN</td>\n",
              "    </tr>\n",
              "    <tr>\n",
              "      <th>4</th>\n",
              "      <td>attr1089</td>\n",
              "      <td>is the instance a crater or not a crater? 1=Cr...</td>\n",
              "    </tr>\n",
              "  </tbody>\n",
              "</table>\n",
              "</div>"
            ],
            "text/plain": [
              "   Features                                        Description\n",
              "0     attr0  attribute vectors to represent each crater can...\n",
              "1     attr1                                                NaN\n",
              "2       ...                                                NaN\n",
              "3  attr1088                                                NaN\n",
              "4  attr1089  is the instance a crater or not a crater? 1=Cr..."
            ]
          },
          "metadata": {
            "tags": []
          },
          "execution_count": 3
        }
      ]
    },
    {
      "cell_type": "markdown",
      "metadata": {
        "id": "Lmn_b1nxjo1k"
      },
      "source": [
        "### Load the dataset"
      ]
    },
    {
      "cell_type": "code",
      "metadata": {
        "id": "-beVo8g-jo1m"
      },
      "source": [
        "# read the dataset and extract the test  and train data separately\n",
        "df_train=pd.read_csv('/content/drive/MyDrive/Mars Crater Classification/train.csv')\n",
        "df_test=pd.read_csv('/content/drive/MyDrive/Mars Crater Classification/test.csv')\n",
        "\n",
        "#Dropping df_train Id column : train_id\n",
        "train_id = df_train['Id']\n",
        "df_train.drop(['Id'], axis=1, inplace=True)\n"
      ],
      "execution_count": 4,
      "outputs": []
    },
    {
      "cell_type": "code",
      "metadata": {
        "colab": {
          "base_uri": "https://localhost:8080/"
        },
        "id": "5BdADJQ9X4Qk",
        "outputId": "ab974b8e-94a5-47ae-b2e0-1deaf35d4fd6"
      },
      "source": [
        "# Data shape\n",
        "df_train.shape"
      ],
      "execution_count": 5,
      "outputs": [
        {
          "output_type": "execute_result",
          "data": {
            "text/plain": [
              "(5892, 1091)"
            ]
          },
          "metadata": {
            "tags": []
          },
          "execution_count": 5
        }
      ]
    },
    {
      "cell_type": "markdown",
      "metadata": {
        "id": "7js4rH_bjo1n"
      },
      "source": [
        "### Visualize the data"
      ]
    },
    {
      "cell_type": "code",
      "metadata": {
        "colab": {
          "base_uri": "https://localhost:8080/",
          "height": 296
        },
        "id": "LDkRCe9xjo1o",
        "outputId": "5c8513cb-cc9b-41e3-b5c3-d00a50302743"
      },
      "source": [
        "#Target - attr1089 - Crater or NoCrater\n",
        "sns.countplot(x='attr1089', data=df_train)\n",
        "#Obs: scarcely imbalanced classes"
      ],
      "execution_count": 6,
      "outputs": [
        {
          "output_type": "execute_result",
          "data": {
            "text/plain": [
              "<matplotlib.axes._subplots.AxesSubplot at 0x7fd9569bd0b8>"
            ]
          },
          "metadata": {
            "tags": []
          },
          "execution_count": 6
        },
        {
          "output_type": "display_data",
          "data": {
            "image/png": "[encoded data removed]",
            "text/plain": [
              "<Figure size 432x288 with 1 Axes>"
            ]
          },
          "metadata": {
            "tags": [],
            "needs_background": "light"
          }
        }
      ]
    },
    {
      "cell_type": "markdown",
      "metadata": {
        "id": "qDlPwd-sjo1p"
      },
      "source": [
        "### Model building"
      ]
    },
    {
      "cell_type": "code",
      "metadata": {
        "colab": {
          "base_uri": "https://localhost:8080/"
        },
        "id": "PqU76XWbjo1r",
        "outputId": "b8ade930-9389-41c7-c80c-efdc94ba1e1a"
      },
      "source": [
        "#Splitting training set\n",
        "y=df_train['attr1089']\n",
        "\n",
        "X=df_train.iloc[:, 0:1090]\n",
        "\n",
        "#we split 75% of the data to training set while 25% of the data to validation \n",
        "X_train, X_valid, y_train, y_valid = train_test_split(X, y, test_size=0.25, random_state=0)\n",
        "\n",
        "#X_train, X_valid shape\n",
        "print(X_train.shape)\n",
        "print(X_valid.shape)\n"
      ],
      "execution_count": 7,
      "outputs": [
        {
          "output_type": "stream",
          "text": [
            "(4419, 1090)\n",
            "(1473, 1090)\n"
          ],
          "name": "stdout"
        }
      ]
    },
    {
      "cell_type": "code",
      "metadata": {
        "colab": {
          "base_uri": "https://localhost:8080/"
        },
        "id": "NmL9BcAsezU6",
        "outputId": "05fd88f6-3d89-4947-c2d9-b60a4938ddd9"
      },
      "source": [
        "# Number of trees in random forest\n",
        "n_estimators = [250,350]\n",
        "# Number of features to consider at every split\n",
        "max_features = ['auto', 'sqrt']\n",
        "# Maximum number of levels in tree\n",
        "max_depth = [5,10]\n",
        "# Minimum number of samples required to split a node\n",
        "min_samples_split = [2, 5, 10]\n",
        "# Minimum number of samples required at each leaf node\n",
        "min_samples_leaf = [1, 2, 4]\n",
        "# Method of selecting samples for training each tree\n",
        "bootstrap = [True, False]\n",
        "\n",
        "# Create the random grid\n",
        "random_grid = {'n_estimators': n_estimators,\n",
        "               'max_features': max_features,\n",
        "               'max_depth': max_depth,\n",
        "               'min_samples_split': min_samples_split,\n",
        "               'min_samples_leaf': min_samples_leaf,\n",
        "               'bootstrap': bootstrap}\n",
        "               \n",
        "print(random_grid)"
      ],
      "execution_count": 16,
      "outputs": [
        {
          "output_type": "stream",
          "text": [
            "{'n_estimators': [250, 350], 'max_features': ['auto', 'sqrt'], 'max_depth': [5, 10], 'min_samples_split': [2, 5, 10], 'min_samples_leaf': [1, 2, 4], 'bootstrap': [True, False]}\n"
          ],
          "name": "stdout"
        }
      ]
    },
    {
      "cell_type": "code",
      "metadata": {
        "colab": {
          "base_uri": "https://localhost:8080/"
        },
        "id": "uZpI5RYlfF1L",
        "outputId": "c3c3bcda-439f-4e87-c68f-aa4da6372d56"
      },
      "source": [
        "#Initialising Random Forest model\n",
        "rf = RandomForestClassifier()\n",
        "\n",
        "# Random search of parameters, using 3 fold cross validation, \n",
        "rf_random = RandomizedSearchCV(estimator = rf, param_distributions = random_grid, n_iter = 100, cv = 3, verbose=2, random_state=42, n_jobs = -1)\n",
        "\n",
        "# Fit the random search model\n",
        "rf_random.fit(X_train, y_train)\n",
        "\n",
        "y_pred= rf_random.predict(X_valid)"
      ],
      "execution_count": 17,
      "outputs": [
        {
          "output_type": "stream",
          "text": [
            "Fitting 3 folds for each of 100 candidates, totalling 300 fits\n"
          ],
          "name": "stdout"
        },
        {
          "output_type": "stream",
          "text": [
            "[Parallel(n_jobs=-1)]: Using backend LokyBackend with 2 concurrent workers.\n",
            "[Parallel(n_jobs=-1)]: Done  37 tasks      | elapsed:  8.1min\n",
            "[Parallel(n_jobs=-1)]: Done 158 tasks      | elapsed: 35.1min\n",
            "[Parallel(n_jobs=-1)]: Done 300 out of 300 | elapsed: 68.6min finished\n"
          ],
          "name": "stderr"
        }
      ]
    },
    {
      "cell_type": "code",
      "metadata": {
        "colab": {
          "base_uri": "https://localhost:8080/"
        },
        "id": "u744rC8IfiLf",
        "outputId": "a19e1328-07b2-4bfa-e957-aca450a79c3d"
      },
      "source": [
        "rf_random.best_params_"
      ],
      "execution_count": 18,
      "outputs": [
        {
          "output_type": "execute_result",
          "data": {
            "text/plain": [
              "{'bootstrap': False,\n",
              " 'max_depth': 10,\n",
              " 'max_features': 'sqrt',\n",
              " 'min_samples_leaf': 1,\n",
              " 'min_samples_split': 2,\n",
              " 'n_estimators': 350}"
            ]
          },
          "metadata": {
            "tags": []
          },
          "execution_count": 18
        }
      ]
    },
    {
      "cell_type": "code",
      "metadata": {
        "colab": {
          "base_uri": "https://localhost:8080/"
        },
        "id": "jiZnLOZ9frPF",
        "outputId": "6d8768d3-9905-44d3-8bca-19dba5d8423e"
      },
      "source": [
        "#roc_auc score\n",
        "roc=roc_auc_score(y_valid, y_pred)\n",
        "print(roc)"
      ],
      "execution_count": 19,
      "outputs": [
        {
          "output_type": "stream",
          "text": [
            "0.9189474952276812\n"
          ],
          "name": "stdout"
        }
      ]
    },
    {
      "cell_type": "markdown",
      "metadata": {
        "id": "Q1uLSLFXjo1s"
      },
      "source": [
        "### Prediction on the test data\n"
      ]
    },
    {
      "cell_type": "code",
      "metadata": {
        "id": "kClVwcCIjo1t",
        "colab": {
          "base_uri": "https://localhost:8080/"
        },
        "outputId": "e3de3abc-d5a2-47cf-c154-fc7ae4e3114f"
      },
      "source": [
        "# Code Starts here\n",
        "#the Id column in a separate variable : test_id\n",
        "test_id = df_test['Id']\n",
        "df_test.drop(['Id'], axis=1, inplace=True) \n",
        "\n",
        "#Test data shape and columns\n",
        "print(df_test.shape)\n",
        "print(df_test.columns)\n",
        "\n",
        "\n",
        "# Code ends here"
      ],
      "execution_count": 20,
      "outputs": [
        {
          "output_type": "stream",
          "text": [
            "(1473, 1090)\n",
            "Index(['Unnamed: 0', 'attr0', 'attr1', 'attr2', 'attr3', 'attr4', 'attr5',\n",
            "       'attr6', 'attr7', 'attr8',\n",
            "       ...\n",
            "       'attr1079', 'attr1080', 'attr1081', 'attr1082', 'attr1083', 'attr1084',\n",
            "       'attr1085', 'attr1086', 'attr1087', 'attr1088'],\n",
            "      dtype='object', length=1090)\n"
          ],
          "name": "stdout"
        }
      ]
    },
    {
      "cell_type": "code",
      "metadata": {
        "colab": {
          "base_uri": "https://localhost:8080/"
        },
        "id": "Pkw1QBdx0w6p",
        "outputId": "4f8983e4-4066-4157-abd6-b09039aaa189"
      },
      "source": [
        "#Features selected from test data\n",
        "X_test=df_test.iloc[:, 0:1090]\n",
        "\n",
        "#make prediction : attr1089\n",
        "ytest_pred=rf_random.predict(X_test)\n",
        "\n",
        "#Making df for submission\n",
        "subm=pd.DataFrame({\"Id\": test_id, \"attr1089\": ytest_pred})\n",
        "print(subm.head())"
      ],
      "execution_count": 23,
      "outputs": [
        {
          "output_type": "stream",
          "text": [
            "     Id  attr1089\n",
            "0  3531         0\n",
            "1  3916         0\n",
            "2  3065         1\n",
            "3  3465         1\n",
            "4  5619         0\n"
          ],
          "name": "stdout"
        }
      ]
    },
    {
      "cell_type": "code",
      "metadata": {
        "id": "ssfb2BzO02Ku",
        "colab": {
          "base_uri": "https://localhost:8080/",
          "height": 17
        },
        "outputId": "0bd96d0e-1ad7-49ab-909c-c2ad81e21de8"
      },
      "source": [
        "# To CSV for submission\n",
        "#subm.to_csv('Mars_Crater.csv',index=False)\n",
        "\n",
        "#from google.colab import files\n",
        "#files.download('Mars_Crater.csv') "
      ],
      "execution_count": 24,
      "outputs": [
        {
          "output_type": "display_data",
          "data": {
            "application/javascript": [
              "\n",
              "    async function download(id, filename, size) {\n",
              "      if (!google.colab.kernel.accessAllowed) {\n",
              "        return;\n",
              "      }\n",
              "      const div = document.createElement('div');\n",
              "      const label = document.createElement('label');\n",
              "      label.textContent = `Downloading \"${filename}\": `;\n",
              "      div.appendChild(label);\n",
              "      const progress = document.createElement('progress');\n",
              "      progress.max = size;\n",
              "      div.appendChild(progress);\n",
              "      document.body.appendChild(div);\n",
              "\n",
              "      const buffers = [];\n",
              "      let downloaded = 0;\n",
              "\n",
              "      const channel = await google.colab.kernel.comms.open(id);\n",
              "      // Send a message to notify the kernel that we're ready.\n",
              "      channel.send({})\n",
              "\n",
              "      for await (const message of channel.messages) {\n",
              "        // Send a message to notify the kernel that we're ready.\n",
              "        channel.send({})\n",
              "        if (message.buffers) {\n",
              "          for (const buffer of message.buffers) {\n",
              "            buffers.push(buffer);\n",
              "            downloaded += buffer.byteLength;\n",
              "            progress.value = downloaded;\n",
              "          }\n",
              "        }\n",
              "      }\n",
              "      const blob = new Blob(buffers, {type: 'application/binary'});\n",
              "      const a = document.createElement('a');\n",
              "      a.href = window.URL.createObjectURL(blob);\n",
              "      a.download = filename;\n",
              "      div.appendChild(a);\n",
              "      a.click();\n",
              "      div.remove();\n",
              "    }\n",
              "  "
            ],
            "text/plain": [
              "<IPython.core.display.Javascript object>"
            ]
          },
          "metadata": {
            "tags": []
          }
        },
        {
          "output_type": "display_data",
          "data": {
            "application/javascript": [
              "download(\"download_52023e96-3b7d-4d2b-8602-344edfa2f478\", \"Mars_Crater.csv\", 10096)"
            ],
            "text/plain": [
              "<IPython.core.display.Javascript object>"
            ]
          },
          "metadata": {
            "tags": []
          }
        }
      ]
    }
  ]
}
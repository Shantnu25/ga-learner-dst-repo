{
  "nbformat": 4,
  "nbformat_minor": 0,
  "metadata": {
    "kernelspec": {
      "display_name": "Python 3",
      "language": "python",
      "name": "python3"
    },
    "language_info": {
      "codemirror_mode": {
        "name": "ipython",
        "version": 3
      },
      "file_extension": ".py",
      "mimetype": "text/x-python",
      "name": "python",
      "nbconvert_exporter": "python",
      "pygments_lexer": "ipython3",
      "version": "3.7.3"
    },
    "colab": {
      "name": "Telecom Churn Prediction.ipynb",
      "provenance": []
    }
  },
  "cells": [
    {
      "cell_type": "code",
      "metadata": {
        "id": "PWbIx0XZ3QS6",
        "colab": {
          "base_uri": "https://localhost:8080/"
        },
        "outputId": "13a34ca9-2501-427e-df42-7aa83c7fabc4"
      },
      "source": [
        "#Using Goole Colab : Mounting google drive\n",
        "from google.colab import drive\n",
        "drive.mount('/content/drive')"
      ],
      "execution_count": 180,
      "outputs": [
        {
          "output_type": "stream",
          "text": [
            "Drive already mounted at /content/drive; to attempt to forcibly remount, call drive.mount(\"/content/drive\", force_remount=True).\n"
          ],
          "name": "stdout"
        }
      ]
    },
    {
      "cell_type": "markdown",
      "metadata": {
        "id": "ayTAuq7y3MWh"
      },
      "source": [
        "### Load the dataset"
      ]
    },
    {
      "cell_type": "code",
      "metadata": {
        "id": "ja3WteQd3MWm"
      },
      "source": [
        "import pandas as pd\n",
        "import numpy as np\n",
        "import matplotlib.pyplot as plt\n",
        "import seaborn as sns\n",
        "pd.set_option('display.max_columns',None)\n",
        "\n",
        "from sklearn.preprocessing import LabelEncoder\n",
        "from sklearn.ensemble import AdaBoostClassifier\n",
        "from xgboost import XGBClassifier \n",
        "from sklearn.model_selection import GridSearchCV, RandomizedSearchCV\n",
        "from sklearn.metrics import roc_auc_score,accuracy_score,classification_report,roc_curve,confusion_matrix\n",
        "from sklearn.model_selection import train_test_split\n",
        "\n",
        "import warnings\n",
        "warnings.filterwarnings('ignore')\n",
        "#pd.set_option('max_rows', 6000)"
      ],
      "execution_count": 181,
      "outputs": []
    },
    {
      "cell_type": "markdown",
      "metadata": {
        "id": "jWVe8--j3XZI"
      },
      "source": [
        "##Problem Statement\n",
        "Using the method of Boosting, classify whether or not the customer will churn\n",
        "\n",
        "```\n",
        "Customer churn, also known as customer attrition, customer turnover, \n",
        "or customer defection, is the loss of clients or customers.\n",
        "\n",
        "Telephone service companies, Internet service providers, pay-TV companies, insurance firms, \n",
        "and alarm monitoring services, often use customer attrition analysis and customer attrition rates as one of their key business metrics \n",
        "because the cost of retaining an existing customer is far less than acquiring a new one.\n",
        "\n",
        "Predictive analytics use churn prediction models that predict customer churn by assessing their propensity of risk to churn.\n",
        "Since these models generate a small prioritized list of potential defectors, they are effective at focusing customer retention marketing programs on the subset of the customer base who are most vulnerable to churn.\n",
        "\n",
        "For this project, we will be exploring the dataset of a telecom company and try to predict the customer churn\n",
        "```"
      ]
    },
    {
      "cell_type": "code",
      "metadata": {
        "id": "EcZloaAL3woS",
        "colab": {
          "base_uri": "https://localhost:8080/",
          "height": 708
        },
        "outputId": "43253e5c-4f09-4bcb-c0f5-e26dbc09165b"
      },
      "source": [
        "#Feature Description\n",
        "feat_desc=pd.read_excel('/content/drive/MyDrive/Telecom Churn Prediction with Boosting/Telecom Churn Prediction_Data_Dictionary.xlsx')\n",
        "feat_desc"
      ],
      "execution_count": 182,
      "outputs": [
        {
          "output_type": "execute_result",
          "data": {
            "text/html": [
              "<div>\n",
              "<style scoped>\n",
              "    .dataframe tbody tr th:only-of-type {\n",
              "        vertical-align: middle;\n",
              "    }\n",
              "\n",
              "    .dataframe tbody tr th {\n",
              "        vertical-align: top;\n",
              "    }\n",
              "\n",
              "    .dataframe thead th {\n",
              "        text-align: right;\n",
              "    }\n",
              "</style>\n",
              "<table border=\"1\" class=\"dataframe\">\n",
              "  <thead>\n",
              "    <tr style=\"text-align: right;\">\n",
              "      <th></th>\n",
              "      <th>Feature</th>\n",
              "      <th>Description</th>\n",
              "    </tr>\n",
              "  </thead>\n",
              "  <tbody>\n",
              "    <tr>\n",
              "      <th>0</th>\n",
              "      <td>customerID</td>\n",
              "      <td>Customer ID</td>\n",
              "    </tr>\n",
              "    <tr>\n",
              "      <th>1</th>\n",
              "      <td>gender</td>\n",
              "      <td>Whether the customer is a male or a female</td>\n",
              "    </tr>\n",
              "    <tr>\n",
              "      <th>2</th>\n",
              "      <td>SeniorCitizen</td>\n",
              "      <td>Whether the customer is a senior citizen or no...</td>\n",
              "    </tr>\n",
              "    <tr>\n",
              "      <th>3</th>\n",
              "      <td>Partner</td>\n",
              "      <td>Whether the customer has a partner or not (Yes...</td>\n",
              "    </tr>\n",
              "    <tr>\n",
              "      <th>4</th>\n",
              "      <td>Dependents</td>\n",
              "      <td>Whether the customer has dependents or not (Ye...</td>\n",
              "    </tr>\n",
              "    <tr>\n",
              "      <th>5</th>\n",
              "      <td>tenure</td>\n",
              "      <td>Number of months the customer has stayed with ...</td>\n",
              "    </tr>\n",
              "    <tr>\n",
              "      <th>6</th>\n",
              "      <td>PhoneService</td>\n",
              "      <td>Whether the customer has a phone service or no...</td>\n",
              "    </tr>\n",
              "    <tr>\n",
              "      <th>7</th>\n",
              "      <td>MultipleLines</td>\n",
              "      <td>Whether the customer has multiple lines or not...</td>\n",
              "    </tr>\n",
              "    <tr>\n",
              "      <th>8</th>\n",
              "      <td>InternetService</td>\n",
              "      <td>Customer’s internet service provider (DSL, Fib...</td>\n",
              "    </tr>\n",
              "    <tr>\n",
              "      <th>9</th>\n",
              "      <td>OnlineSecurity</td>\n",
              "      <td>Whether the customer has online security or no...</td>\n",
              "    </tr>\n",
              "    <tr>\n",
              "      <th>10</th>\n",
              "      <td>OnlineBackup</td>\n",
              "      <td>Whether the customer has online backup or not ...</td>\n",
              "    </tr>\n",
              "    <tr>\n",
              "      <th>11</th>\n",
              "      <td>DeviceProtection</td>\n",
              "      <td>Whether the customer has device protection or ...</td>\n",
              "    </tr>\n",
              "    <tr>\n",
              "      <th>12</th>\n",
              "      <td>TechSupport</td>\n",
              "      <td>Whether the customer has tech support or not (...</td>\n",
              "    </tr>\n",
              "    <tr>\n",
              "      <th>13</th>\n",
              "      <td>StreamingTV</td>\n",
              "      <td>Whether the customer has streaming TV or not (...</td>\n",
              "    </tr>\n",
              "    <tr>\n",
              "      <th>14</th>\n",
              "      <td>StreamingMovies</td>\n",
              "      <td>Whether the customer has streaming movies or n...</td>\n",
              "    </tr>\n",
              "    <tr>\n",
              "      <th>15</th>\n",
              "      <td>Contract</td>\n",
              "      <td>The contract term of the customer (Month-to-mo...</td>\n",
              "    </tr>\n",
              "    <tr>\n",
              "      <th>16</th>\n",
              "      <td>PaperlessBilling</td>\n",
              "      <td>Whether the customer has paperless billing or ...</td>\n",
              "    </tr>\n",
              "    <tr>\n",
              "      <th>17</th>\n",
              "      <td>PaymentMethod</td>\n",
              "      <td>The customer’s payment method (Electronic chec...</td>\n",
              "    </tr>\n",
              "    <tr>\n",
              "      <th>18</th>\n",
              "      <td>MonthlyCharges</td>\n",
              "      <td>The amount charged to the customer monthly</td>\n",
              "    </tr>\n",
              "    <tr>\n",
              "      <th>19</th>\n",
              "      <td>TotalCharges</td>\n",
              "      <td>The total amount charged to the customer</td>\n",
              "    </tr>\n",
              "    <tr>\n",
              "      <th>20</th>\n",
              "      <td>Churn</td>\n",
              "      <td>Whether the customer churned or not (Yes or No)</td>\n",
              "    </tr>\n",
              "  </tbody>\n",
              "</table>\n",
              "</div>"
            ],
            "text/plain": [
              "             Feature                                        Description\n",
              "0         customerID                                        Customer ID\n",
              "1             gender         Whether the customer is a male or a female\n",
              "2      SeniorCitizen  Whether the customer is a senior citizen or no...\n",
              "3            Partner  Whether the customer has a partner or not (Yes...\n",
              "4         Dependents  Whether the customer has dependents or not (Ye...\n",
              "5             tenure  Number of months the customer has stayed with ...\n",
              "6       PhoneService  Whether the customer has a phone service or no...\n",
              "7      MultipleLines  Whether the customer has multiple lines or not...\n",
              "8    InternetService  Customer’s internet service provider (DSL, Fib...\n",
              "9     OnlineSecurity  Whether the customer has online security or no...\n",
              "10      OnlineBackup  Whether the customer has online backup or not ...\n",
              "11  DeviceProtection  Whether the customer has device protection or ...\n",
              "12       TechSupport  Whether the customer has tech support or not (...\n",
              "13       StreamingTV  Whether the customer has streaming TV or not (...\n",
              "14   StreamingMovies  Whether the customer has streaming movies or n...\n",
              "15          Contract  The contract term of the customer (Month-to-mo...\n",
              "16  PaperlessBilling  Whether the customer has paperless billing or ...\n",
              "17     PaymentMethod  The customer’s payment method (Electronic chec...\n",
              "18    MonthlyCharges         The amount charged to the customer monthly\n",
              "19      TotalCharges           The total amount charged to the customer\n",
              "20             Churn    Whether the customer churned or not (Yes or No)"
            ]
          },
          "metadata": {
            "tags": []
          },
          "execution_count": 182
        }
      ]
    },
    {
      "cell_type": "markdown",
      "metadata": {
        "id": "jYG8OPNq4U_k"
      },
      "source": [
        "##Load the Dataset"
      ]
    },
    {
      "cell_type": "code",
      "metadata": {
        "id": "tjGoPamz4UDD"
      },
      "source": [
        "# read the dataset and extract the test  and train data separately\n",
        "df_train=pd.read_csv('/content/drive/MyDrive/Telecom Churn Prediction with Boosting/train.csv')\n",
        "df_test=pd.read_csv('/content/drive/MyDrive/Telecom Churn Prediction with Boosting/test.csv')\n",
        "\n",
        "#Dropping df_train Id column : train_id\n",
        "train_id = df_train['Id']\n",
        "df_train.drop(['Id'], axis=1, inplace=True)"
      ],
      "execution_count": 183,
      "outputs": []
    },
    {
      "cell_type": "code",
      "metadata": {
        "id": "_RGI_sX34t4g",
        "colab": {
          "base_uri": "https://localhost:8080/",
          "height": 313
        },
        "outputId": "86eb10b6-97fe-4271-bafe-5f42d51c4d6d"
      },
      "source": [
        "#First 5 rows\n",
        "df_train.head()"
      ],
      "execution_count": 184,
      "outputs": [
        {
          "output_type": "execute_result",
          "data": {
            "text/html": [
              "<div>\n",
              "<style scoped>\n",
              "    .dataframe tbody tr th:only-of-type {\n",
              "        vertical-align: middle;\n",
              "    }\n",
              "\n",
              "    .dataframe tbody tr th {\n",
              "        vertical-align: top;\n",
              "    }\n",
              "\n",
              "    .dataframe thead th {\n",
              "        text-align: right;\n",
              "    }\n",
              "</style>\n",
              "<table border=\"1\" class=\"dataframe\">\n",
              "  <thead>\n",
              "    <tr style=\"text-align: right;\">\n",
              "      <th></th>\n",
              "      <th>customerID</th>\n",
              "      <th>gender</th>\n",
              "      <th>SeniorCitizen</th>\n",
              "      <th>Partner</th>\n",
              "      <th>Dependents</th>\n",
              "      <th>tenure</th>\n",
              "      <th>PhoneService</th>\n",
              "      <th>MultipleLines</th>\n",
              "      <th>InternetService</th>\n",
              "      <th>OnlineSecurity</th>\n",
              "      <th>OnlineBackup</th>\n",
              "      <th>DeviceProtection</th>\n",
              "      <th>TechSupport</th>\n",
              "      <th>StreamingTV</th>\n",
              "      <th>StreamingMovies</th>\n",
              "      <th>Contract</th>\n",
              "      <th>PaperlessBilling</th>\n",
              "      <th>PaymentMethod</th>\n",
              "      <th>MonthlyCharges</th>\n",
              "      <th>TotalCharges</th>\n",
              "      <th>Churn</th>\n",
              "    </tr>\n",
              "  </thead>\n",
              "  <tbody>\n",
              "    <tr>\n",
              "      <th>0</th>\n",
              "      <td>7596-IIWYC</td>\n",
              "      <td>Female</td>\n",
              "      <td>0</td>\n",
              "      <td>No</td>\n",
              "      <td>No</td>\n",
              "      <td>27</td>\n",
              "      <td>Yes</td>\n",
              "      <td>No</td>\n",
              "      <td>No</td>\n",
              "      <td>No internet service</td>\n",
              "      <td>No internet service</td>\n",
              "      <td>No internet service</td>\n",
              "      <td>No internet service</td>\n",
              "      <td>No internet service</td>\n",
              "      <td>No internet service</td>\n",
              "      <td>Two year</td>\n",
              "      <td>Yes</td>\n",
              "      <td>Bank transfer (automatic)</td>\n",
              "      <td>20.25</td>\n",
              "      <td>538.2</td>\n",
              "      <td>No</td>\n",
              "    </tr>\n",
              "    <tr>\n",
              "      <th>1</th>\n",
              "      <td>9103-CXVOK</td>\n",
              "      <td>Male</td>\n",
              "      <td>0</td>\n",
              "      <td>Yes</td>\n",
              "      <td>Yes</td>\n",
              "      <td>1</td>\n",
              "      <td>Yes</td>\n",
              "      <td>No</td>\n",
              "      <td>No</td>\n",
              "      <td>No internet service</td>\n",
              "      <td>No internet service</td>\n",
              "      <td>No internet service</td>\n",
              "      <td>No internet service</td>\n",
              "      <td>No internet service</td>\n",
              "      <td>No internet service</td>\n",
              "      <td>Month-to-month</td>\n",
              "      <td>No</td>\n",
              "      <td>Electronic check</td>\n",
              "      <td>19.75</td>\n",
              "      <td>19.75</td>\n",
              "      <td>No</td>\n",
              "    </tr>\n",
              "    <tr>\n",
              "      <th>2</th>\n",
              "      <td>7129-CAKJW</td>\n",
              "      <td>Female</td>\n",
              "      <td>0</td>\n",
              "      <td>No</td>\n",
              "      <td>No</td>\n",
              "      <td>17</td>\n",
              "      <td>Yes</td>\n",
              "      <td>Yes</td>\n",
              "      <td>Fiber optic</td>\n",
              "      <td>No</td>\n",
              "      <td>No</td>\n",
              "      <td>Yes</td>\n",
              "      <td>No</td>\n",
              "      <td>No</td>\n",
              "      <td>No</td>\n",
              "      <td>Month-to-month</td>\n",
              "      <td>No</td>\n",
              "      <td>Bank transfer (automatic)</td>\n",
              "      <td>80.05</td>\n",
              "      <td>1345.65</td>\n",
              "      <td>No</td>\n",
              "    </tr>\n",
              "    <tr>\n",
              "      <th>3</th>\n",
              "      <td>9490-DFPMD</td>\n",
              "      <td>Female</td>\n",
              "      <td>1</td>\n",
              "      <td>No</td>\n",
              "      <td>No</td>\n",
              "      <td>42</td>\n",
              "      <td>Yes</td>\n",
              "      <td>Yes</td>\n",
              "      <td>Fiber optic</td>\n",
              "      <td>No</td>\n",
              "      <td>No</td>\n",
              "      <td>No</td>\n",
              "      <td>No</td>\n",
              "      <td>Yes</td>\n",
              "      <td>No</td>\n",
              "      <td>Month-to-month</td>\n",
              "      <td>Yes</td>\n",
              "      <td>Electronic check</td>\n",
              "      <td>84.65</td>\n",
              "      <td>3541.35</td>\n",
              "      <td>Yes</td>\n",
              "    </tr>\n",
              "    <tr>\n",
              "      <th>4</th>\n",
              "      <td>9069-LGEUL</td>\n",
              "      <td>Male</td>\n",
              "      <td>0</td>\n",
              "      <td>Yes</td>\n",
              "      <td>No</td>\n",
              "      <td>23</td>\n",
              "      <td>Yes</td>\n",
              "      <td>No</td>\n",
              "      <td>DSL</td>\n",
              "      <td>Yes</td>\n",
              "      <td>No</td>\n",
              "      <td>No</td>\n",
              "      <td>No</td>\n",
              "      <td>No</td>\n",
              "      <td>Yes</td>\n",
              "      <td>Month-to-month</td>\n",
              "      <td>Yes</td>\n",
              "      <td>Bank transfer (automatic)</td>\n",
              "      <td>59.95</td>\n",
              "      <td>1406</td>\n",
              "      <td>No</td>\n",
              "    </tr>\n",
              "  </tbody>\n",
              "</table>\n",
              "</div>"
            ],
            "text/plain": [
              "   customerID  gender  SeniorCitizen Partner Dependents  tenure PhoneService  \\\n",
              "0  7596-IIWYC  Female              0      No         No      27          Yes   \n",
              "1  9103-CXVOK    Male              0     Yes        Yes       1          Yes   \n",
              "2  7129-CAKJW  Female              0      No         No      17          Yes   \n",
              "3  9490-DFPMD  Female              1      No         No      42          Yes   \n",
              "4  9069-LGEUL    Male              0     Yes         No      23          Yes   \n",
              "\n",
              "  MultipleLines InternetService       OnlineSecurity         OnlineBackup  \\\n",
              "0            No              No  No internet service  No internet service   \n",
              "1            No              No  No internet service  No internet service   \n",
              "2           Yes     Fiber optic                   No                   No   \n",
              "3           Yes     Fiber optic                   No                   No   \n",
              "4            No             DSL                  Yes                   No   \n",
              "\n",
              "      DeviceProtection          TechSupport          StreamingTV  \\\n",
              "0  No internet service  No internet service  No internet service   \n",
              "1  No internet service  No internet service  No internet service   \n",
              "2                  Yes                   No                   No   \n",
              "3                   No                   No                  Yes   \n",
              "4                   No                   No                   No   \n",
              "\n",
              "       StreamingMovies        Contract PaperlessBilling  \\\n",
              "0  No internet service        Two year              Yes   \n",
              "1  No internet service  Month-to-month               No   \n",
              "2                   No  Month-to-month               No   \n",
              "3                   No  Month-to-month              Yes   \n",
              "4                  Yes  Month-to-month              Yes   \n",
              "\n",
              "               PaymentMethod  MonthlyCharges TotalCharges Churn  \n",
              "0  Bank transfer (automatic)           20.25        538.2    No  \n",
              "1           Electronic check           19.75        19.75    No  \n",
              "2  Bank transfer (automatic)           80.05      1345.65    No  \n",
              "3           Electronic check           84.65      3541.35   Yes  \n",
              "4  Bank transfer (automatic)           59.95         1406    No  "
            ]
          },
          "metadata": {
            "tags": []
          },
          "execution_count": 184
        }
      ]
    },
    {
      "cell_type": "code",
      "metadata": {
        "id": "OwWyDKWj3wlv",
        "colab": {
          "base_uri": "https://localhost:8080/"
        },
        "outputId": "5a4b648b-9da7-4a2a-b6ea-15298aaecf81"
      },
      "source": [
        "# Data shape and columns\n",
        "\n",
        "print(df_train.shape)\n",
        "print(df_train.columns)"
      ],
      "execution_count": 185,
      "outputs": [
        {
          "output_type": "stream",
          "text": [
            "(5634, 21)\n",
            "Index(['customerID', 'gender', 'SeniorCitizen', 'Partner', 'Dependents',\n",
            "       'tenure', 'PhoneService', 'MultipleLines', 'InternetService',\n",
            "       'OnlineSecurity', 'OnlineBackup', 'DeviceProtection', 'TechSupport',\n",
            "       'StreamingTV', 'StreamingMovies', 'Contract', 'PaperlessBilling',\n",
            "       'PaymentMethod', 'MonthlyCharges', 'TotalCharges', 'Churn'],\n",
            "      dtype='object')\n"
          ],
          "name": "stdout"
        }
      ]
    },
    {
      "cell_type": "code",
      "metadata": {
        "id": "l-pzc_Y95FkB",
        "colab": {
          "base_uri": "https://localhost:8080/"
        },
        "outputId": "eaeb296a-3b7c-460c-876e-8ca9e1598ef0"
      },
      "source": [
        "#Features Info\n",
        "\n",
        "df_train.info()"
      ],
      "execution_count": 186,
      "outputs": [
        {
          "output_type": "stream",
          "text": [
            "<class 'pandas.core.frame.DataFrame'>\n",
            "RangeIndex: 5634 entries, 0 to 5633\n",
            "Data columns (total 21 columns):\n",
            " #   Column            Non-Null Count  Dtype  \n",
            "---  ------            --------------  -----  \n",
            " 0   customerID        5634 non-null   object \n",
            " 1   gender            5634 non-null   object \n",
            " 2   SeniorCitizen     5634 non-null   int64  \n",
            " 3   Partner           5634 non-null   object \n",
            " 4   Dependents        5634 non-null   object \n",
            " 5   tenure            5634 non-null   int64  \n",
            " 6   PhoneService      5634 non-null   object \n",
            " 7   MultipleLines     5634 non-null   object \n",
            " 8   InternetService   5634 non-null   object \n",
            " 9   OnlineSecurity    5634 non-null   object \n",
            " 10  OnlineBackup      5634 non-null   object \n",
            " 11  DeviceProtection  5634 non-null   object \n",
            " 12  TechSupport       5634 non-null   object \n",
            " 13  StreamingTV       5634 non-null   object \n",
            " 14  StreamingMovies   5634 non-null   object \n",
            " 15  Contract          5634 non-null   object \n",
            " 16  PaperlessBilling  5634 non-null   object \n",
            " 17  PaymentMethod     5634 non-null   object \n",
            " 18  MonthlyCharges    5634 non-null   float64\n",
            " 19  TotalCharges      5634 non-null   object \n",
            " 20  Churn             5634 non-null   object \n",
            "dtypes: float64(1), int64(2), object(18)\n",
            "memory usage: 924.5+ KB\n"
          ],
          "name": "stdout"
        }
      ]
    },
    {
      "cell_type": "code",
      "metadata": {
        "id": "6XNPxu7W4tEe",
        "colab": {
          "base_uri": "https://localhost:8080/",
          "height": 300
        },
        "outputId": "0db4e967-b905-42b3-c37d-80406f79afbf"
      },
      "source": [
        "# Describe data\n",
        "\n",
        "df_train.describe()"
      ],
      "execution_count": 187,
      "outputs": [
        {
          "output_type": "execute_result",
          "data": {
            "text/html": [
              "<div>\n",
              "<style scoped>\n",
              "    .dataframe tbody tr th:only-of-type {\n",
              "        vertical-align: middle;\n",
              "    }\n",
              "\n",
              "    .dataframe tbody tr th {\n",
              "        vertical-align: top;\n",
              "    }\n",
              "\n",
              "    .dataframe thead th {\n",
              "        text-align: right;\n",
              "    }\n",
              "</style>\n",
              "<table border=\"1\" class=\"dataframe\">\n",
              "  <thead>\n",
              "    <tr style=\"text-align: right;\">\n",
              "      <th></th>\n",
              "      <th>SeniorCitizen</th>\n",
              "      <th>tenure</th>\n",
              "      <th>MonthlyCharges</th>\n",
              "    </tr>\n",
              "  </thead>\n",
              "  <tbody>\n",
              "    <tr>\n",
              "      <th>count</th>\n",
              "      <td>5634.000000</td>\n",
              "      <td>5634.000000</td>\n",
              "      <td>5634.000000</td>\n",
              "    </tr>\n",
              "    <tr>\n",
              "      <th>mean</th>\n",
              "      <td>0.161519</td>\n",
              "      <td>32.075790</td>\n",
              "      <td>64.671166</td>\n",
              "    </tr>\n",
              "    <tr>\n",
              "      <th>std</th>\n",
              "      <td>0.368042</td>\n",
              "      <td>24.492631</td>\n",
              "      <td>30.177218</td>\n",
              "    </tr>\n",
              "    <tr>\n",
              "      <th>min</th>\n",
              "      <td>0.000000</td>\n",
              "      <td>0.000000</td>\n",
              "      <td>18.250000</td>\n",
              "    </tr>\n",
              "    <tr>\n",
              "      <th>25%</th>\n",
              "      <td>0.000000</td>\n",
              "      <td>9.000000</td>\n",
              "      <td>35.275000</td>\n",
              "    </tr>\n",
              "    <tr>\n",
              "      <th>50%</th>\n",
              "      <td>0.000000</td>\n",
              "      <td>28.000000</td>\n",
              "      <td>70.350000</td>\n",
              "    </tr>\n",
              "    <tr>\n",
              "      <th>75%</th>\n",
              "      <td>0.000000</td>\n",
              "      <td>55.000000</td>\n",
              "      <td>90.050000</td>\n",
              "    </tr>\n",
              "    <tr>\n",
              "      <th>max</th>\n",
              "      <td>1.000000</td>\n",
              "      <td>72.000000</td>\n",
              "      <td>118.750000</td>\n",
              "    </tr>\n",
              "  </tbody>\n",
              "</table>\n",
              "</div>"
            ],
            "text/plain": [
              "       SeniorCitizen       tenure  MonthlyCharges\n",
              "count    5634.000000  5634.000000     5634.000000\n",
              "mean        0.161519    32.075790       64.671166\n",
              "std         0.368042    24.492631       30.177218\n",
              "min         0.000000     0.000000       18.250000\n",
              "25%         0.000000     9.000000       35.275000\n",
              "50%         0.000000    28.000000       70.350000\n",
              "75%         0.000000    55.000000       90.050000\n",
              "max         1.000000    72.000000      118.750000"
            ]
          },
          "metadata": {
            "tags": []
          },
          "execution_count": 187
        }
      ]
    },
    {
      "cell_type": "code",
      "metadata": {
        "id": "eaEQOkkj5KOk",
        "colab": {
          "base_uri": "https://localhost:8080/",
          "height": 212
        },
        "outputId": "69c27942-5262-4e9e-cb0a-d0edac8ee27d"
      },
      "source": [
        "#Describing categorical data - 'object'\n",
        "\n",
        "df_train.describe(include='object')"
      ],
      "execution_count": 188,
      "outputs": [
        {
          "output_type": "execute_result",
          "data": {
            "text/html": [
              "<div>\n",
              "<style scoped>\n",
              "    .dataframe tbody tr th:only-of-type {\n",
              "        vertical-align: middle;\n",
              "    }\n",
              "\n",
              "    .dataframe tbody tr th {\n",
              "        vertical-align: top;\n",
              "    }\n",
              "\n",
              "    .dataframe thead th {\n",
              "        text-align: right;\n",
              "    }\n",
              "</style>\n",
              "<table border=\"1\" class=\"dataframe\">\n",
              "  <thead>\n",
              "    <tr style=\"text-align: right;\">\n",
              "      <th></th>\n",
              "      <th>customerID</th>\n",
              "      <th>gender</th>\n",
              "      <th>Partner</th>\n",
              "      <th>Dependents</th>\n",
              "      <th>PhoneService</th>\n",
              "      <th>MultipleLines</th>\n",
              "      <th>InternetService</th>\n",
              "      <th>OnlineSecurity</th>\n",
              "      <th>OnlineBackup</th>\n",
              "      <th>DeviceProtection</th>\n",
              "      <th>TechSupport</th>\n",
              "      <th>StreamingTV</th>\n",
              "      <th>StreamingMovies</th>\n",
              "      <th>Contract</th>\n",
              "      <th>PaperlessBilling</th>\n",
              "      <th>PaymentMethod</th>\n",
              "      <th>TotalCharges</th>\n",
              "      <th>Churn</th>\n",
              "    </tr>\n",
              "  </thead>\n",
              "  <tbody>\n",
              "    <tr>\n",
              "      <th>count</th>\n",
              "      <td>5634</td>\n",
              "      <td>5634</td>\n",
              "      <td>5634</td>\n",
              "      <td>5634</td>\n",
              "      <td>5634</td>\n",
              "      <td>5634</td>\n",
              "      <td>5634</td>\n",
              "      <td>5634</td>\n",
              "      <td>5634</td>\n",
              "      <td>5634</td>\n",
              "      <td>5634</td>\n",
              "      <td>5634</td>\n",
              "      <td>5634</td>\n",
              "      <td>5634</td>\n",
              "      <td>5634</td>\n",
              "      <td>5634</td>\n",
              "      <td>5634</td>\n",
              "      <td>5634</td>\n",
              "    </tr>\n",
              "    <tr>\n",
              "      <th>unique</th>\n",
              "      <td>5634</td>\n",
              "      <td>2</td>\n",
              "      <td>2</td>\n",
              "      <td>2</td>\n",
              "      <td>2</td>\n",
              "      <td>3</td>\n",
              "      <td>3</td>\n",
              "      <td>3</td>\n",
              "      <td>3</td>\n",
              "      <td>3</td>\n",
              "      <td>3</td>\n",
              "      <td>3</td>\n",
              "      <td>3</td>\n",
              "      <td>3</td>\n",
              "      <td>2</td>\n",
              "      <td>4</td>\n",
              "      <td>5275</td>\n",
              "      <td>2</td>\n",
              "    </tr>\n",
              "    <tr>\n",
              "      <th>top</th>\n",
              "      <td>2446-BEGGB</td>\n",
              "      <td>Male</td>\n",
              "      <td>No</td>\n",
              "      <td>No</td>\n",
              "      <td>Yes</td>\n",
              "      <td>No</td>\n",
              "      <td>Fiber optic</td>\n",
              "      <td>No</td>\n",
              "      <td>No</td>\n",
              "      <td>No</td>\n",
              "      <td>No</td>\n",
              "      <td>No</td>\n",
              "      <td>No</td>\n",
              "      <td>Month-to-month</td>\n",
              "      <td>Yes</td>\n",
              "      <td>Electronic check</td>\n",
              "      <td></td>\n",
              "      <td>No</td>\n",
              "    </tr>\n",
              "    <tr>\n",
              "      <th>freq</th>\n",
              "      <td>1</td>\n",
              "      <td>2852</td>\n",
              "      <td>2894</td>\n",
              "      <td>3930</td>\n",
              "      <td>5086</td>\n",
              "      <td>2715</td>\n",
              "      <td>2485</td>\n",
              "      <td>2853</td>\n",
              "      <td>2466</td>\n",
              "      <td>2487</td>\n",
              "      <td>2804</td>\n",
              "      <td>2231</td>\n",
              "      <td>2221</td>\n",
              "      <td>3112</td>\n",
              "      <td>3343</td>\n",
              "      <td>1906</td>\n",
              "      <td>9</td>\n",
              "      <td>4120</td>\n",
              "    </tr>\n",
              "  </tbody>\n",
              "</table>\n",
              "</div>"
            ],
            "text/plain": [
              "        customerID gender Partner Dependents PhoneService MultipleLines  \\\n",
              "count         5634   5634    5634       5634         5634          5634   \n",
              "unique        5634      2       2          2            2             3   \n",
              "top     2446-BEGGB   Male      No         No          Yes            No   \n",
              "freq             1   2852    2894       3930         5086          2715   \n",
              "\n",
              "       InternetService OnlineSecurity OnlineBackup DeviceProtection  \\\n",
              "count             5634           5634         5634             5634   \n",
              "unique               3              3            3                3   \n",
              "top        Fiber optic             No           No               No   \n",
              "freq              2485           2853         2466             2487   \n",
              "\n",
              "       TechSupport StreamingTV StreamingMovies        Contract  \\\n",
              "count         5634        5634            5634            5634   \n",
              "unique           3           3               3               3   \n",
              "top             No          No              No  Month-to-month   \n",
              "freq          2804        2231            2221            3112   \n",
              "\n",
              "       PaperlessBilling     PaymentMethod TotalCharges Churn  \n",
              "count              5634              5634         5634  5634  \n",
              "unique                2                 4         5275     2  \n",
              "top                 Yes  Electronic check                 No  \n",
              "freq               3343              1906            9  4120  "
            ]
          },
          "metadata": {
            "tags": []
          },
          "execution_count": 188
        }
      ]
    },
    {
      "cell_type": "markdown",
      "metadata": {
        "id": "AW79AcVp3MWp"
      },
      "source": [
        "### Visualize the data and preprocess\n"
      ]
    },
    {
      "cell_type": "code",
      "metadata": {
        "id": "afNQpJA3KBxg"
      },
      "source": [
        "#Replacing empty value in TotalCharges\n",
        "df_train['TotalCharges'].replace(' ',np.NaN, inplace=True)\n",
        "df_test['TotalCharges'].replace(' ',np.NaN, inplace=True)"
      ],
      "execution_count": 189,
      "outputs": []
    },
    {
      "cell_type": "code",
      "metadata": {
        "id": "pPzCbibyG5oF"
      },
      "source": [
        "#Total Charges to float\n",
        "df_train['TotalCharges']=df_train['TotalCharges'].astype(float)\n",
        "df_test['TotalCharges']=df_test['TotalCharges'].astype(float)\n"
      ],
      "execution_count": 190,
      "outputs": []
    },
    {
      "cell_type": "code",
      "metadata": {
        "colab": {
          "base_uri": "https://localhost:8080/"
        },
        "id": "nUqIgBv7NHfe",
        "outputId": "331155b1-560c-4fc8-ebff-2c4bbe7525a3"
      },
      "source": [
        "# 9 Null values in TotalCharges\n",
        "df_train.isnull().sum()"
      ],
      "execution_count": 191,
      "outputs": [
        {
          "output_type": "execute_result",
          "data": {
            "text/plain": [
              "customerID          0\n",
              "gender              0\n",
              "SeniorCitizen       0\n",
              "Partner             0\n",
              "Dependents          0\n",
              "tenure              0\n",
              "PhoneService        0\n",
              "MultipleLines       0\n",
              "InternetService     0\n",
              "OnlineSecurity      0\n",
              "OnlineBackup        0\n",
              "DeviceProtection    0\n",
              "TechSupport         0\n",
              "StreamingTV         0\n",
              "StreamingMovies     0\n",
              "Contract            0\n",
              "PaperlessBilling    0\n",
              "PaymentMethod       0\n",
              "MonthlyCharges      0\n",
              "TotalCharges        9\n",
              "Churn               0\n",
              "dtype: int64"
            ]
          },
          "metadata": {
            "tags": []
          },
          "execution_count": 191
        }
      ]
    },
    {
      "cell_type": "code",
      "metadata": {
        "id": "PJ_qDdK3NJ3o"
      },
      "source": [
        "#Filling missing values in TotalCharges\n",
        "df_train['TotalCharges'].fillna(df_train['TotalCharges'].mean(),inplace=True)\n",
        "df_test['TotalCharges'].fillna(df_test['TotalCharges'].mean(), inplace=True)\n"
      ],
      "execution_count": 192,
      "outputs": []
    },
    {
      "cell_type": "code",
      "metadata": {
        "colab": {
          "base_uri": "https://localhost:8080/",
          "height": 298
        },
        "id": "BiSR1lasKy9w",
        "outputId": "f11eae32-f9fb-4e2b-ddc8-a0bed010d1a9"
      },
      "source": [
        "# TotalCharges\n",
        "sns.distplot(df_train['TotalCharges'])"
      ],
      "execution_count": 193,
      "outputs": [
        {
          "output_type": "execute_result",
          "data": {
            "text/plain": [
              "<matplotlib.axes._subplots.AxesSubplot at 0x7f526dee01d0>"
            ]
          },
          "metadata": {
            "tags": []
          },
          "execution_count": 193
        },
        {
          "output_type": "display_data",
          "data": {
            "image/png": "[encoded data removed]",
            "text/plain": [
              "<Figure size 432x288 with 1 Axes>"
            ]
          },
          "metadata": {
            "tags": [],
            "needs_background": "light"
          }
        }
      ]
    },
    {
      "cell_type": "code",
      "metadata": {
        "id": "2-P3FVUl3MWr",
        "colab": {
          "base_uri": "https://localhost:8080/",
          "height": 296
        },
        "outputId": "3da2e013-1ea7-4f5e-a752-da2d3ecf5383"
      },
      "source": [
        "#Target - Churn\n",
        "\n",
        "sns.countplot(x='Churn', data=df_train)\n",
        "#Obs: Imbalanced Classes"
      ],
      "execution_count": 194,
      "outputs": [
        {
          "output_type": "execute_result",
          "data": {
            "text/plain": [
              "<matplotlib.axes._subplots.AxesSubplot at 0x7f526de23b00>"
            ]
          },
          "metadata": {
            "tags": []
          },
          "execution_count": 194
        },
        {
          "output_type": "display_data",
          "data": {
            "image/png": "[encoded data removed]",
            "text/plain": [
              "<Figure size 432x288 with 1 Axes>"
            ]
          },
          "metadata": {
            "tags": [],
            "needs_background": "light"
          }
        }
      ]
    },
    {
      "cell_type": "code",
      "metadata": {
        "id": "oNzKf9kNGTlq"
      },
      "source": [
        "# Encoding categorical variables\n",
        "encoder=LabelEncoder()\n",
        "\n",
        "#Encoding Training data\n",
        "df_train['Churn'] = encoder.fit_transform(df_train['Churn'])\n",
        "\n",
        "col=['gender','Partner','Dependents','PhoneService','MultipleLines','InternetService','OnlineSecurity','OnlineBackup','DeviceProtection',\n",
        "     'TechSupport','StreamingTV','StreamingMovies','Contract','PaperlessBilling','PaymentMethod']\n",
        "\n",
        "for i in col:\n",
        "  df_train[i] = encoder.fit_transform(df_train[i])\n",
        "  df_test[i] = encoder.fit_transform(df_test[i])\n"
      ],
      "execution_count": 195,
      "outputs": []
    },
    {
      "cell_type": "markdown",
      "metadata": {
        "id": "cHb8lClS3MWs"
      },
      "source": [
        "### Model building\n"
      ]
    },
    {
      "cell_type": "code",
      "metadata": {
        "colab": {
          "base_uri": "https://localhost:8080/"
        },
        "id": "AiTL7o60Q25a",
        "outputId": "fa1cb26b-4d79-431c-c818-f3033871e32a"
      },
      "source": [
        "#Splitting training and validation set\n",
        "\n",
        "X=df_train.drop(['Churn','customerID'],1)\n",
        "\n",
        "y=df_train['Churn']\n",
        "\n",
        "print(X.head())\n",
        "print(y.head())\n",
        "\n",
        "\n",
        "#we split 75% of the data to training set while 25% of the data to validation \n",
        "X_train, X_valid, y_train, y_valid = train_test_split(X, y, test_size=0.25, random_state=0)\n",
        "\n",
        "#X_train, X_valid shape\n",
        "print(X_train.shape)\n",
        "print(X_valid.shape)"
      ],
      "execution_count": 196,
      "outputs": [
        {
          "output_type": "stream",
          "text": [
            "   gender  SeniorCitizen  Partner  Dependents  tenure  PhoneService  \\\n",
            "0       0              0        0           0      27             1   \n",
            "1       1              0        1           1       1             1   \n",
            "2       0              0        0           0      17             1   \n",
            "3       0              1        0           0      42             1   \n",
            "4       1              0        1           0      23             1   \n",
            "\n",
            "   MultipleLines  InternetService  OnlineSecurity  OnlineBackup  \\\n",
            "0              0                2               1             1   \n",
            "1              0                2               1             1   \n",
            "2              2                1               0             0   \n",
            "3              2                1               0             0   \n",
            "4              0                0               2             0   \n",
            "\n",
            "   DeviceProtection  TechSupport  StreamingTV  StreamingMovies  Contract  \\\n",
            "0                 1            1            1                1         2   \n",
            "1                 1            1            1                1         0   \n",
            "2                 2            0            0                0         0   \n",
            "3                 0            0            2                0         0   \n",
            "4                 0            0            0                2         0   \n",
            "\n",
            "   PaperlessBilling  PaymentMethod  MonthlyCharges  TotalCharges  \n",
            "0                 1              0           20.25        538.20  \n",
            "1                 0              2           19.75         19.75  \n",
            "2                 0              0           80.05       1345.65  \n",
            "3                 1              2           84.65       3541.35  \n",
            "4                 1              0           59.95       1406.00  \n",
            "0    0\n",
            "1    0\n",
            "2    0\n",
            "3    1\n",
            "4    0\n",
            "Name: Churn, dtype: int64\n",
            "(4225, 19)\n",
            "(1409, 19)\n"
          ],
          "name": "stdout"
        }
      ]
    },
    {
      "cell_type": "markdown",
      "metadata": {
        "id": "cH-y2ibcSPYo"
      },
      "source": [
        "### **Using AdaBoost Classifier**"
      ]
    },
    {
      "cell_type": "code",
      "metadata": {
        "id": "67dHODjw3MWw",
        "colab": {
          "base_uri": "https://localhost:8080/"
        },
        "outputId": "768780a4-458d-4725-9326-e40cbbed456f"
      },
      "source": [
        "# Initialising AdaBoostClassifier\n",
        "ada = AdaBoostClassifier()\n",
        "ada.fit(X_train,y_train)"
      ],
      "execution_count": 197,
      "outputs": [
        {
          "output_type": "execute_result",
          "data": {
            "text/plain": [
              "AdaBoostClassifier(algorithm='SAMME.R', base_estimator=None, learning_rate=1.0,\n",
              "                   n_estimators=50, random_state=None)"
            ]
          },
          "metadata": {
            "tags": []
          },
          "execution_count": 197
        }
      ]
    },
    {
      "cell_type": "code",
      "metadata": {
        "colab": {
          "base_uri": "https://localhost:8080/"
        },
        "id": "zoHdHFgURY0F",
        "outputId": "25901fa7-9b15-4ab3-e88e-31c4c3079d29"
      },
      "source": [
        "# Predicting the values of validation data\n",
        "y_ada_pred = ada.predict(X_valid)\n",
        "print(\"Classification report - \\n\", classification_report(y_valid,y_ada_pred))"
      ],
      "execution_count": 198,
      "outputs": [
        {
          "output_type": "stream",
          "text": [
            "Classification report - \n",
            "               precision    recall  f1-score   support\n",
            "\n",
            "           0       0.86      0.89      0.87      1045\n",
            "           1       0.64      0.58      0.61       364\n",
            "\n",
            "    accuracy                           0.81      1409\n",
            "   macro avg       0.75      0.73      0.74      1409\n",
            "weighted avg       0.80      0.81      0.80      1409\n",
            "\n"
          ],
          "name": "stdout"
        }
      ]
    },
    {
      "cell_type": "code",
      "metadata": {
        "colab": {
          "base_uri": "https://localhost:8080/"
        },
        "id": "yk2YZGqlRfip",
        "outputId": "7a5542f1-e1be-4818-a845-aa4b74cb51fc"
      },
      "source": [
        "#Accuracy Score\n",
        "accuracy_score(y_valid,y_ada_pred)"
      ],
      "execution_count": 199,
      "outputs": [
        {
          "output_type": "execute_result",
          "data": {
            "text/plain": [
              "0.8055358410220014"
            ]
          },
          "metadata": {
            "tags": []
          },
          "execution_count": 199
        }
      ]
    },
    {
      "cell_type": "markdown",
      "metadata": {
        "id": "K_zwyS_FSBVa"
      },
      "source": [
        "### **Using XGBoost Classifier**"
      ]
    },
    {
      "cell_type": "code",
      "metadata": {
        "colab": {
          "base_uri": "https://localhost:8080/"
        },
        "id": "RGjYkVDhSELn",
        "outputId": "5e617949-8b27-4dfe-bc60-9da5fdda3b7d"
      },
      "source": [
        "# Initialising AdaBoostClassifier\n",
        "XGB = XGBClassifier()\n",
        "XGB.fit(X_train,y_train)"
      ],
      "execution_count": 200,
      "outputs": [
        {
          "output_type": "execute_result",
          "data": {
            "text/plain": [
              "XGBClassifier(base_score=0.5, booster='gbtree', colsample_bylevel=1,\n",
              "              colsample_bynode=1, colsample_bytree=1, gamma=0,\n",
              "              learning_rate=0.1, max_delta_step=0, max_depth=3,\n",
              "              min_child_weight=1, missing=None, n_estimators=100, n_jobs=1,\n",
              "              nthread=None, objective='binary:logistic', random_state=0,\n",
              "              reg_alpha=0, reg_lambda=1, scale_pos_weight=1, seed=None,\n",
              "              silent=None, subsample=1, verbosity=1)"
            ]
          },
          "metadata": {
            "tags": []
          },
          "execution_count": 200
        }
      ]
    },
    {
      "cell_type": "code",
      "metadata": {
        "colab": {
          "base_uri": "https://localhost:8080/"
        },
        "id": "AqX2cUDSSfBj",
        "outputId": "601239df-d430-4441-82a9-de5a285929f2"
      },
      "source": [
        "# Predicting the values of validation data\n",
        "y_XGB_pred = XGB.predict(X_valid)\n",
        "print(\"Classification report - \\n\", classification_report(y_valid,y_XGB_pred))"
      ],
      "execution_count": 201,
      "outputs": [
        {
          "output_type": "stream",
          "text": [
            "Classification report - \n",
            "               precision    recall  f1-score   support\n",
            "\n",
            "           0       0.85      0.89      0.87      1045\n",
            "           1       0.63      0.56      0.60       364\n",
            "\n",
            "    accuracy                           0.80      1409\n",
            "   macro avg       0.74      0.72      0.73      1409\n",
            "weighted avg       0.80      0.80      0.80      1409\n",
            "\n"
          ],
          "name": "stdout"
        }
      ]
    },
    {
      "cell_type": "code",
      "metadata": {
        "colab": {
          "base_uri": "https://localhost:8080/"
        },
        "id": "H-klbZyjSjMs",
        "outputId": "2904b5c6-8ba4-4d12-97f6-f9eacaea3bf0"
      },
      "source": [
        "#Accuracy Score\n",
        "accuracy_score(y_valid,y_XGB_pred)"
      ],
      "execution_count": 202,
      "outputs": [
        {
          "output_type": "execute_result",
          "data": {
            "text/plain": [
              "0.8019872249822569"
            ]
          },
          "metadata": {
            "tags": []
          },
          "execution_count": 202
        }
      ]
    },
    {
      "cell_type": "markdown",
      "metadata": {
        "id": "QKMTWnKM3MWx"
      },
      "source": [
        "### Prediction on the test data"
      ]
    },
    {
      "cell_type": "code",
      "metadata": {
        "id": "Gd6dYRB83MWy",
        "colab": {
          "base_uri": "https://localhost:8080/"
        },
        "outputId": "55acc099-5153-4ade-a764-11e7aa0b7d09"
      },
      "source": [
        "#the Id column in a separate variable : test_id\n",
        "test_id = df_test['Id']\n",
        "df_test.drop(['Id'], axis=1, inplace=True) \n",
        "\n",
        "#Test data shape and columns names\n",
        "print(df_test.shape)\n",
        "print(df_test.columns)"
      ],
      "execution_count": 203,
      "outputs": [
        {
          "output_type": "stream",
          "text": [
            "(1409, 20)\n",
            "Index(['customerID', 'gender', 'SeniorCitizen', 'Partner', 'Dependents',\n",
            "       'tenure', 'PhoneService', 'MultipleLines', 'InternetService',\n",
            "       'OnlineSecurity', 'OnlineBackup', 'DeviceProtection', 'TechSupport',\n",
            "       'StreamingTV', 'StreamingMovies', 'Contract', 'PaperlessBilling',\n",
            "       'PaymentMethod', 'MonthlyCharges', 'TotalCharges'],\n",
            "      dtype='object')\n"
          ],
          "name": "stdout"
        }
      ]
    },
    {
      "cell_type": "code",
      "metadata": {
        "colab": {
          "base_uri": "https://localhost:8080/"
        },
        "id": "7-YK6_aGTFWQ",
        "outputId": "4467ac20-a6ad-466a-9019-52abf9377d06"
      },
      "source": [
        "#Features selected from test data\n",
        "\n",
        "X_test=df_test.drop(['customerID'],1)\n",
        "\n",
        "#make prediction : Churn - AdaBoostClassifier\n",
        "y_test_pred = ada.predict(X_test)\n",
        "\n",
        "#Making df for submission\n",
        "subm=pd.DataFrame({\"Id\": test_id, \"Churn\": y_test_pred})\n",
        "subm['Churn']=subm['Churn'].replace({0:'No', 1:'Yes'})\n",
        "print(subm.head())"
      ],
      "execution_count": 204,
      "outputs": [
        {
          "output_type": "stream",
          "text": [
            "     Id Churn\n",
            "0  4539    No\n",
            "1  1802    No\n",
            "2  1380    No\n",
            "3  5305    No\n",
            "4  1960    No\n"
          ],
          "name": "stdout"
        }
      ]
    },
    {
      "cell_type": "code",
      "metadata": {
        "id": "3ZsJalwsTZ6W"
      },
      "source": [
        "# To CSV for submission\n",
        "#subm.to_csv('Telecom_Churn_submission.csv',index=False)\n",
        "\n",
        "#from google.colab import files\n",
        "#files.download('Telecom_Churn_submission.csv') "
      ],
      "execution_count": 205,
      "outputs": []
    }
  ]
}